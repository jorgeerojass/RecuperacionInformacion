{
 "cells": [
  {
   "cell_type": "markdown",
   "id": "20980d198e5f991c",
   "metadata": {},
   "source": [
    "# Ejercicio 1: Introducción a Recuperación de Información\n",
    "\n",
    "JORGE ROJAS\n",
    "\n",
    "## Objetivo de la práctica\n",
    "- Entender el problema de **buscar información** en colecciones de texto.\n",
    "- Comprender por qué se necesita un **índice invertido** en recuperación de información.\n",
    "- Programar una primera solución manual y luego optimizarla con un índice.\n",
    "- Evaluar la mejora en tiempos de búsqueda cuando usamos estructuras adecuadas."
   ]
  },
  {
   "cell_type": "markdown",
   "id": "175182ac2f1f542c",
   "metadata": {},
   "source": [
    "## Parte 1: Búsqueda lineal en documentos\n",
    "\n",
    "### Actividad\n",
    "1. Se te proporcionará un conjunto de documentos de texto.\n",
    "2. Escribe una función que:\n",
    "   - Lea todos los documentos.\n",
    "   - Busque una palabra ingresada por el usuario.\n",
    "   - Muestre en qué documentos aparece la palabra."
   ]
  },
  {
   "cell_type": "code",
   "execution_count": 1,
   "id": "initial_id",
   "metadata": {
    "collapsed": true
   },
   "outputs": [
    {
     "name": "stdout",
     "output_type": "stream",
     "text": [
      "La palabra 'Ecuador' se encontró en los siguientes documentos:\n",
      "- 01_corpus_turismo_500.txt\n",
      "- 01_corpus_turismo.txt\n"
     ]
    }
   ],
   "source": [
    "archivos = ['01_corpus_turismo_500.txt', '01_corpus_turismo.txt']\n",
    "palabra = input(\"Palabra a buscar: \")\n",
    "\n",
    "documentos_encontrados = []\n",
    "\n",
    "for archivo in archivos:\n",
    "    with open(archivo, 'r', encoding='utf-8') as f:\n",
    "        contenido = f.read()\n",
    "        if palabra.lower() in contenido.lower():\n",
    "            documentos_encontrados.append(archivo)\n",
    "\n",
    "if documentos_encontrados:\n",
    "    print(f\"La palabra '{palabra}' se encontró en los siguientes documentos:\")\n",
    "    for doc in documentos_encontrados:\n",
    "        print(f\"- {doc}\")\n",
    "else:\n",
    "    print(f\"La palabra '{palabra}' no se encontró en ningún documento.\")"
   ]
  },
  {
   "cell_type": "markdown",
   "id": "57c9797b0bf7f4bb",
   "metadata": {},
   "source": [
    "## Parte 2: Construcción de un índice invertido\n",
    "\n",
    "### Actividad\n",
    "1. Escribe un programa que:\n",
    "   - Recorra todos los documentos.\n",
    "   - Construya un **índice invertido**, es decir, un diccionario donde:\n",
    "     - Cada palabra clave apunta a una lista de documentos donde aparece.\n",
    "\n",
    "2. Escribe una nueva función de búsqueda que:\n",
    "   - Consulte directamente el índice para encontrar los documentos relevantes.\n",
    "   - Sea mucho más rápida que la búsqueda lineal."
   ]
  },
  {
   "cell_type": "code",
   "execution_count": 2,
   "id": "34e7a4522b06d969",
   "metadata": {},
   "outputs": [
    {
     "name": "stdout",
     "output_type": "stream",
     "text": [
      "\n",
      "La palabra 'ecuador' se encontró en:\n",
      "- 01_corpus_turismo_500.txt: líneas: 5, 22, 30, 37, 41, 45, 76, 109, 110, 122, 127, 130, 156, 163, 168, 200, 225, 231, 246, 254, 258, 280, 307, 319, 324, 333, 352, 371, 379, 383, 386, 442, 459, 486, 491, 492\n",
      "- 01_corpus_turismo.txt: líneas: 1\n",
      "\n",
      "La palabra 'quito' se encontró en:\n",
      "- 01_corpus_turismo_500.txt: líneas: 4, 16, 17, 39, 43, 73, 75, 89, 104, 136, 201, 213, 238, 260, 291, 325, 355, 391, 469, 487\n",
      "- 01_corpus_turismo.txt: líneas: 3\n"
     ]
    }
   ],
   "source": [
    "archivos = ['01_corpus_turismo_500.txt', '01_corpus_turismo.txt']\n",
    "indice_invertido = {}\n",
    "\n",
    "for archivo in archivos:\n",
    "    try:\n",
    "        with open(archivo, 'r', encoding='utf-8') as f:\n",
    "            for num_linea, linea in enumerate(f, start=1):\n",
    "                for palabra in linea.strip().lower().split():\n",
    "                    indice_invertido.setdefault(palabra, {}).setdefault(archivo, []).append(num_linea)\n",
    "    except FileNotFoundError:\n",
    "        print(f\"Archivo no encontrado: {archivo}\")\n",
    "\n",
    "consultas = input(\"Palabras a buscar (separadas por espacios): \").strip().lower().split()\n",
    "resultados = {consulta: indice_invertido.get(consulta, {}) for consulta in consultas}\n",
    "\n",
    "for consulta, docs in resultados.items():\n",
    "    if docs:\n",
    "        print(f\"\\nLa palabra '{consulta}' se encontró en:\")\n",
    "        for archivo, lineas in docs.items():\n",
    "            print(f\"- {archivo}: líneas: {', '.join(map(str, lineas))}\")\n",
    "    else:\n",
    "        print(f\"\\nLa palabra '{consulta}' no se encontró en ningún documento.\")"
   ]
  },
  {
   "cell_type": "markdown",
   "id": "3f311d0944a2f98d",
   "metadata": {},
   "source": [
    "## Parte 3: Evaluación de tiempos de búsqueda\n",
    "### Actividad\n",
    "\n",
    "1. Realiza la búsqueda de varias palabras usando:\n",
    "      -  Corpus pequeño: 16 documentos (turismo en Ecuador).\n",
    "      -  Corpus grande: 500 documentos (versión ampliada).\n",
    "2. Mide el tiempo de ejecución:\n",
    "      -  Para búsqueda lineal.\n",
    "      -  Para búsqueda usando índice invertido.\n",
    "      -  Grafica o presenta los resultados en una tabla comparativa.\n",
    "\n",
    "### Ejemplo de palabras para buscar\n",
    "- quito\n",
    "- montañita\n",
    "- feriado\n",
    "- playas\n",
    "- aventura\n",
    "- galápagos"
   ]
  },
  {
   "cell_type": "code",
   "execution_count": 3,
   "id": "15211fcaadfeb175",
   "metadata": {},
   "outputs": [
    {
     "name": "stdout",
     "output_type": "stream",
     "text": [
      "Corpus Pequeño: Búsqueda Lineal=0.0015s, Construcción Índice=0.0002s, Búsqueda Índice=0.0000s\n",
      "Corpus Grande: Búsqueda Lineal=0.0062s, Construcción Índice=0.0016s, Búsqueda Índice=0.0000s\n"
     ]
    }
   ],
   "source": [
    "import time\n",
    "\n",
    "corpus_pequeno = ['01_corpus_turismo.txt']\n",
    "corpus_grande = ['01_corpus_turismo_500.txt']\n",
    "palabras_buscar = ['quito', 'montañita', 'feriado', 'playas', 'aventura', 'galápagos']\n",
    "\n",
    "def busqueda_lineal(archivos, palabras):\n",
    "    return {palabra: {archivo: [num for num, linea in enumerate(open(archivo, 'r', encoding='utf-8'), start=1) \n",
    "                                if palabra in linea.lower()] for archivo in archivos if palabra in open(archivo, 'r', encoding='utf-8').read().lower()} \n",
    "            for palabra in palabras}\n",
    "\n",
    "def construir_indice(corpus):\n",
    "    indice = {}\n",
    "    for archivo in archivos:\n",
    "        with open(archivo, 'r', encoding='utf-8') as f:\n",
    "            for num, linea in enumerate(f, start=1):\n",
    "                for palabra in linea.strip().lower().split():\n",
    "                    indice.setdefault(palabra, {}).setdefault(archivo, []).append(num)\n",
    "    return indice\n",
    "\n",
    "def busqueda_indice(indice, palabras):\n",
    "    return {palabra: indice.get(palabra, {}) for palabra in palabras}\n",
    "\n",
    "def medir_tiempos(archivos, palabras):\n",
    "    inicio = time.time()\n",
    "    busqueda_lineal(archivos, palabras)\n",
    "    tiempo_lineal = time.time() - inicio\n",
    "\n",
    "    inicio = time.time()\n",
    "    indice = construir_indice(archivos)\n",
    "    tiempo_construccion = time.time() - inicio\n",
    "\n",
    "    inicio = time.time()\n",
    "    busqueda_indice(indice, palabras)\n",
    "    tiempo_busqueda_indice = time.time() - inicio\n",
    "\n",
    "    return tiempo_lineal, tiempo_construccion, tiempo_busqueda_indice\n",
    "\n",
    "for corpus, archivos in [(\"Corpus Pequeño\", corpus_pequeno), (\"Corpus Grande\", corpus_grande)]:\n",
    "    tiempos = medir_tiempos(archivos, palabras_buscar)\n",
    "    print(f\"{corpus}: Búsqueda Lineal={tiempos[0]:.4f}s, Construcción Índice={tiempos[1]:.4f}s, Búsqueda Índice={tiempos[2]:.4f}s\")"
   ]
  },
  {
   "cell_type": "markdown",
   "id": "93a841af5ef64dd7",
   "metadata": {},
   "source": [
    "## Parte 4:\n",
    "### Actividad\n",
    "1. Modifica el índice para que ignore mayúsculas/minúsculas (por ejemplo, \"Playa\" y \"playa\" deben considerarse iguales).\n",
    "2. Permite consultas de múltiples términos (ejemplo: buscar documentos que contengan \"playa\" y \"turismo\").\n",
    "3. Calcula el _speedup_"
   ]
  },
  {
   "cell_type": "code",
   "execution_count": 4,
   "id": "66741cbd7ba00bb6",
   "metadata": {},
   "outputs": [
    {
     "name": "stdout",
     "output_type": "stream",
     "text": [
      "Corpuss Pequeño: Lineal=0.0006s, Índice=0.0003s, Búsqueda=0.0000s, Speedup=1.65x\n",
      "Corpus Grande: Lineal=0.0020s, Índice=0.0032s, Búsqueda=0.0001s, Speedup=0.62x\n"
     ]
    }
   ],
   "source": [
    "import time\n",
    "\n",
    "corpus_pequeno = ['01_corpus_turismo.txt']\n",
    "corpus_grande = ['01_corpus_turismo_500.txt']\n",
    "palabras_buscar = ['quito', 'montañita', 'feriado', 'playas', 'aventura', 'galápagos']\n",
    "\n",
    "def construir_indice(archivos):\n",
    "    indice = {}\n",
    "    for archivo in archivos:\n",
    "        with open(archivo, 'r', encoding='utf-8') as f:\n",
    "            for num, linea in enumerate(f, 1):\n",
    "                for palabra in linea.strip().lower().split():\n",
    "                    indice.setdefault(palabra, {}).setdefault(archivo, []).append(num)\n",
    "    return indice\n",
    "\n",
    "def busqueda_indice(indice, palabras):\n",
    "    return {archivo: set(sum((indice.get(p, {}).get(archivo, []) for p in palabras), [])) \n",
    "            for p in palabras for archivo in indice.get(p, {})}\n",
    "\n",
    "def busqueda_lineal(archivos, palabras):\n",
    "    return {archivo: [num for num, linea in enumerate(open(archivo, 'r', encoding='utf-8'), 1) \n",
    "                      if all(p in linea.lower() for p in palabras)] for archivo in archivos}\n",
    "\n",
    "def medir_tiempos(archivos, palabras):\n",
    "    t1 = time.time(); busqueda_lineal(archivos, palabras); t_lineal = time.time() - t1\n",
    "    t2 = time.time(); indice = construir_indice(archivos); t_indice = time.time() - t2\n",
    "    t3 = time.time(); busqueda_indice(indice, palabras); t_busqueda = time.time() - t3\n",
    "    return t_lineal, t_indice, t_busqueda, t_lineal / (t_indice + t_busqueda)\n",
    "\n",
    "for corpus, archivos in [(\"Corpuss Pequeño\", corpus_pequeno), (\"Corpus Grande\", corpus_grande)]:\n",
    "    t_lineal, t_indice, t_busqueda, speedup = medir_tiempos(archivos, palabras_buscar)\n",
    "    print(f\"{corpus}: Lineal={t_lineal:.4f}s, Índice={t_indice:.4f}s, Búsqueda={t_busqueda:.4f}s, Speedup={speedup:.2f}x\")"
   ]
  }
 ],
 "metadata": {
  "kernelspec": {
   "display_name": "Python 3",
   "language": "python",
   "name": "python3"
  },
  "language_info": {
   "codemirror_mode": {
    "name": "ipython",
    "version": 3
   },
   "file_extension": ".py",
   "mimetype": "text/x-python",
   "name": "python",
   "nbconvert_exporter": "python",
   "pygments_lexer": "ipython3",
   "version": "3.12.1"
  }
 },
 "nbformat": 4,
 "nbformat_minor": 5
}
