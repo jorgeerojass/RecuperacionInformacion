{
 "cells": [
  {
   "cell_type": "markdown",
   "id": "25a9d760d321cc33",
   "metadata": {},
   "source": [
    "# Ejercicio 3: Representación Gráfica de Vectores de Documentos y Consultas\n",
    "\n",
    "## Objetivo de la práctica\n",
    "- Comprender la representación de documentos y consultas en el modelo de espacio vectorial, mediante el cálculo de matrices término-documento usando medidas como TF y TF-IDF.\n",
    "- Aplicar la similitud coseno para comparar documentos con consultas, y utilizarla para recuperar y ordenar documentos según su relevancia.\n",
    "- Visualizar de forma intuitiva los vectores de documentos y consultas, mediante reducción de dimensionalidad y representación gráfica en el plano, para facilitar la interpretación geométrica de la recuperación de información."
   ]
  },
  {
   "cell_type": "markdown",
   "id": "d0e53ef6",
   "metadata": {},
   "source": [
    "JORGE ROJAS"
   ]
  },
  {
   "cell_type": "code",
   "execution_count": 7,
   "id": "117d6d1f",
   "metadata": {},
   "outputs": [
    {
     "name": "stdout",
     "output_type": "stream",
     "text": [
      "Defaulting to user installation because normal site-packages is not writeable\n",
      "Collecting pandas\n",
      "  Downloading pandas-2.2.3-cp313-cp313-win_amd64.whl.metadata (19 kB)\n",
      "Requirement already satisfied: matplotlib in c:\\users\\gboy2\\appdata\\local\\packages\\pythonsoftwarefoundation.python.3.13_qbz5n2kfra8p0\\localcache\\local-packages\\python313\\site-packages (3.10.3)\n",
      "Requirement already satisfied: numpy>=1.26.0 in c:\\users\\gboy2\\appdata\\local\\packages\\pythonsoftwarefoundation.python.3.13_qbz5n2kfra8p0\\localcache\\local-packages\\python313\\site-packages (from pandas) (2.2.5)\n",
      "Requirement already satisfied: python-dateutil>=2.8.2 in c:\\users\\gboy2\\appdata\\local\\packages\\pythonsoftwarefoundation.python.3.13_qbz5n2kfra8p0\\localcache\\local-packages\\python313\\site-packages (from pandas) (2.9.0.post0)\n",
      "Collecting pytz>=2020.1 (from pandas)\n",
      "  Downloading pytz-2025.2-py2.py3-none-any.whl.metadata (22 kB)\n",
      "Collecting tzdata>=2022.7 (from pandas)\n",
      "  Downloading tzdata-2025.2-py2.py3-none-any.whl.metadata (1.4 kB)\n",
      "Requirement already satisfied: contourpy>=1.0.1 in c:\\users\\gboy2\\appdata\\local\\packages\\pythonsoftwarefoundation.python.3.13_qbz5n2kfra8p0\\localcache\\local-packages\\python313\\site-packages (from matplotlib) (1.3.2)\n",
      "Requirement already satisfied: cycler>=0.10 in c:\\users\\gboy2\\appdata\\local\\packages\\pythonsoftwarefoundation.python.3.13_qbz5n2kfra8p0\\localcache\\local-packages\\python313\\site-packages (from matplotlib) (0.12.1)\n",
      "Requirement already satisfied: fonttools>=4.22.0 in c:\\users\\gboy2\\appdata\\local\\packages\\pythonsoftwarefoundation.python.3.13_qbz5n2kfra8p0\\localcache\\local-packages\\python313\\site-packages (from matplotlib) (4.58.0)\n",
      "Requirement already satisfied: kiwisolver>=1.3.1 in c:\\users\\gboy2\\appdata\\local\\packages\\pythonsoftwarefoundation.python.3.13_qbz5n2kfra8p0\\localcache\\local-packages\\python313\\site-packages (from matplotlib) (1.4.8)\n",
      "Requirement already satisfied: packaging>=20.0 in c:\\users\\gboy2\\appdata\\local\\packages\\pythonsoftwarefoundation.python.3.13_qbz5n2kfra8p0\\localcache\\local-packages\\python313\\site-packages (from matplotlib) (25.0)\n",
      "Requirement already satisfied: pillow>=8 in c:\\users\\gboy2\\appdata\\local\\packages\\pythonsoftwarefoundation.python.3.13_qbz5n2kfra8p0\\localcache\\local-packages\\python313\\site-packages (from matplotlib) (11.2.1)\n",
      "Requirement already satisfied: pyparsing>=2.3.1 in c:\\users\\gboy2\\appdata\\local\\packages\\pythonsoftwarefoundation.python.3.13_qbz5n2kfra8p0\\localcache\\local-packages\\python313\\site-packages (from matplotlib) (3.2.3)\n",
      "Requirement already satisfied: six>=1.5 in c:\\users\\gboy2\\appdata\\local\\packages\\pythonsoftwarefoundation.python.3.13_qbz5n2kfra8p0\\localcache\\local-packages\\python313\\site-packages (from python-dateutil>=2.8.2->pandas) (1.17.0)\n",
      "Downloading pandas-2.2.3-cp313-cp313-win_amd64.whl (11.5 MB)\n",
      "   ---------------------------------------- 0.0/11.5 MB ? eta -:--:--\n",
      "    --------------------------------------- 0.3/11.5 MB ? eta -:--:--\n",
      "   --- ------------------------------------ 1.0/11.5 MB 3.0 MB/s eta 0:00:04\n",
      "   ------- -------------------------------- 2.1/11.5 MB 3.9 MB/s eta 0:00:03\n",
      "   ----------- ---------------------------- 3.4/11.5 MB 4.8 MB/s eta 0:00:02\n",
      "   --------------------- ------------------ 6.0/11.5 MB 6.6 MB/s eta 0:00:01\n",
      "   ------------------------------- -------- 8.9/11.5 MB 8.0 MB/s eta 0:00:01\n",
      "   ---------------------------------------- 11.5/11.5 MB 9.2 MB/s eta 0:00:00\n",
      "Downloading pytz-2025.2-py2.py3-none-any.whl (509 kB)\n",
      "Downloading tzdata-2025.2-py2.py3-none-any.whl (347 kB)\n",
      "Installing collected packages: pytz, tzdata, pandas\n",
      "Successfully installed pandas-2.2.3 pytz-2025.2 tzdata-2025.2\n",
      "Note: you may need to restart the kernel to use updated packages.\n"
     ]
    },
    {
     "name": "stderr",
     "output_type": "stream",
     "text": [
      "\n",
      "[notice] A new release of pip is available: 25.0.1 -> 25.1.1\n",
      "[notice] To update, run: C:\\Users\\gboy2\\AppData\\Local\\Microsoft\\WindowsApps\\PythonSoftwareFoundation.Python.3.13_qbz5n2kfra8p0\\python.exe -m pip install --upgrade pip\n"
     ]
    }
   ],
   "source": [
    "pip install pandas matplotlib"
   ]
  },
  {
   "cell_type": "markdown",
   "id": "1fe1c237143173b7",
   "metadata": {},
   "source": [
    "## Parte 1: Construcción de la matriz término-documento y TF-IDF\n",
    "\n",
    "### Actividad\n",
    "1. Usa el siguiente corpus de 4 documentos.\n",
    "2. Vectoriza los documentos usando:\n",
    "   - Frecuencia absoluta (TF)\n",
    "   - TF-IDF\n",
    "3. Visualiza los documentos como un gráfico de dispersión 2D y 3D."
   ]
  },
  {
   "cell_type": "code",
   "execution_count": null,
   "id": "initial_id",
   "metadata": {
    "collapsed": true
   },
   "outputs": [
    {
     "name": "stdout",
     "output_type": "stream",
     "text": [
      "=== Matriz TF ===\n",
      "    cama  cómoda  de  debajo  del  el  en  es  escondió  estaba  gato  \\\n",
      "D1     1       0   1       1    0   1   0   0         1       0     1   \n",
      "D2     1       1   0       0    0   0   0   0         0       1     0   \n",
      "D3     0       0   0       0    0   3   1   0         0       0     1   \n",
      "D4     0       0   0       0    1   0   0   1         0       0     0   \n",
      "\n",
      "    importante  jardín  jugaron  la  limpia  limpieza  perro  se  y  \n",
      "D1           0       0        0   1       0         0      0   1  0  \n",
      "D2           0       0        0   1       1         0      0   0  1  \n",
      "D3           0       1        1   0       0         0      1   0  1  \n",
      "D4           1       1        0   1       0         1      0   0  0  \n",
      "\n",
      "=== Matriz TF-IDF ===\n",
      "       cama   cómoda       de   debajo      del       el       en       es  \\\n",
      "D1  0.30103  0.00000  0.60206  0.60206  0.00000  0.30103  0.00000  0.00000   \n",
      "D2  0.30103  0.60206  0.00000  0.00000  0.00000  0.00000  0.00000  0.00000   \n",
      "D3  0.00000  0.00000  0.00000  0.00000  0.00000  0.90309  0.60206  0.00000   \n",
      "D4  0.00000  0.00000  0.00000  0.00000  0.60206  0.00000  0.00000  0.60206   \n",
      "\n",
      "    escondió   estaba     gato  importante   jardín  jugaron        la  \\\n",
      "D1   0.60206  0.00000  0.30103     0.00000  0.00000  0.00000  0.124939   \n",
      "D2   0.00000  0.60206  0.00000     0.00000  0.00000  0.00000  0.124939   \n",
      "D3   0.00000  0.00000  0.30103     0.00000  0.30103  0.60206  0.000000   \n",
      "D4   0.00000  0.00000  0.00000     0.60206  0.30103  0.00000  0.124939   \n",
      "\n",
      "     limpia  limpieza    perro       se        y  \n",
      "D1  0.00000   0.00000  0.00000  0.60206  0.00000  \n",
      "D2  0.60206   0.00000  0.00000  0.00000  0.30103  \n",
      "D3  0.00000   0.00000  0.60206  0.00000  0.30103  \n",
      "D4  0.00000   0.60206  0.00000  0.00000  0.00000  \n"
     ]
    },
    {
     "data": {
      "image/png": "[encoded data removed]",
      "text/plain": [
       "<Figure size 800x600 with 1 Axes>"
      ]
     },
     "metadata": {},
     "output_type": "display_data"
    }
   ],
   "source": [
    "import pandas as pd\n",
    "import matplotlib.pyplot as plt\n",
    "import numpy as np\n",
    "import math\n",
    "\n",
    "# Corpus de documentos\n",
    "documents = [\n",
    "    \"El gato se escondió debajo de la cama.\",\n",
    "    \"La cama estaba limpia y cómoda.\",\n",
    "    \"El perro y el gato jugaron en el jardín.\",\n",
    "    \"La limpieza del jardín es importante.\"\n",
    "]\n",
    "\n",
    "# Preprocesamiento básico: minusculas y tokenización\n",
    "tokenized_docs = [doc.lower().replace('.', '').split() for doc in documents]\n",
    "\n",
    "# Obtener vocabulario único\n",
    "vocab = sorted(set(word for doc in tokenized_docs for word in doc))\n",
    "\n",
    "# === Matriz TF (frecuencia absoluta) ===\n",
    "tf_data = []\n",
    "for doc in tokenized_docs:\n",
    "    row = [doc.count(word) for word in vocab]\n",
    "    tf_data.append(row)\n",
    "\n",
    "tf_df = pd.DataFrame(tf_data, columns=vocab, index=[\"D1\", \"D2\", \"D3\", \"D4\"])\n",
    "print(\"=== Matriz TF ===\")\n",
    "print(tf_df)\n",
    "\n",
    "# === Cálculo IDF manual ===\n",
    "N = len(documents)\n",
    "idf = []\n",
    "for word in vocab:\n",
    "    df = sum(1 for doc in tokenized_docs if word in doc)\n",
    "    idf_value = math.log10(N / df) if df != 0 else 0\n",
    "    idf.append(idf_value)\n",
    "\n",
    "# === Matriz TF-IDF ===\n",
    "tfidf_data = tf_df.values * idf  # broadcasting\n",
    "tfidf_df = pd.DataFrame(tfidf_data, columns=vocab, index=[\"D1\", \"D2\", \"D3\", \"D4\"])\n",
    "print(\"\\n=== Matriz TF-IDF ===\")\n",
    "print(tfidf_df)\n",
    "\n",
    "# Reducción a 2D usando media como método muy básico\n",
    "docs_2d = tfidf_df.values[:, :2] \n",
    "\n",
    "plt.figure(figsize=(8, 6))\n",
    "plt.scatter(docs_2d[:, 0], docs_2d[:, 1], color='blue')\n",
    "for i, label in enumerate([\"D1\", \"D2\", \"D3\", \"D4\"]):\n",
    "    plt.annotate(label, (docs_2d[i, 0], docs_2d[i, 1]))\n",
    "plt.title(\"Visualización 2D simplificada (TF-IDF)\")\n",
    "plt.xlabel(\"Dim 1 (manual)\")\n",
    "plt.ylabel(\"Dim 2 (manual)\")\n",
    "plt.grid(True)\n",
    "plt.show()\n"
   ]
  },
  {
   "cell_type": "markdown",
   "id": "8736bea5c8c765cb",
   "metadata": {},
   "source": [
    "## Parte 2: Representación de la consulta como vector\n",
    "\n",
    "### Actividad\n",
    "1. Ingresa una consulta como texto.\n",
    "2. Representa la consulta en el mismo espacio vectorial que los documentos.\n",
    "3. Calcula similitud coseno entre la consulta y cada documento.\n",
    "4. Visualiza la consulta como un vector en el mismo espacio vectorial que los documentos."
   ]
  },
  {
   "cell_type": "code",
   "execution_count": 13,
   "id": "2a574fb37d9da2fe",
   "metadata": {},
   "outputs": [
    {
     "name": "stdout",
     "output_type": "stream",
     "text": [
      "\n",
      "Similitud con la consulta:\n",
      "D1: 0.0948\n",
      "D2: 0.1102\n",
      "D3: 0.0000\n",
      "D4: 0.1002\n"
     ]
    },
    {
     "name": "stderr",
     "output_type": "stream",
     "text": [
      "C:\\Users\\gboy2\\AppData\\Local\\Temp\\ipykernel_12748\\539669704.py:44: FutureWarning: Series.__getitem__ treating keys as positions is deprecated. In a future version, integer keys will always be treated as labels (consistent with DataFrame behavior). To access a value by position, use `ser.iloc[pos]`\n",
      "  plt.annotate(label, (tfidf[vocab[0]][i], tfidf[vocab[1]][i]))\n"
     ]
    },
    {
     "data": {
      "image/png": "[encoded data removed]",
      "text/plain": [
       "<Figure size 640x480 with 1 Axes>"
      ]
     },
     "metadata": {},
     "output_type": "display_data"
    }
   ],
   "source": [
    "import pandas as pd\n",
    "import numpy as np\n",
    "import math\n",
    "import matplotlib.pyplot as plt\n",
    "\n",
    "# Documentos\n",
    "docs = [\n",
    "    \"El gato se escondió debajo de la cama.\",\n",
    "    \"La cama estaba limpia y cómoda.\",\n",
    "    \"El perro y el gato jugaron en el jardín.\",\n",
    "    \"La limpieza del jardín es importante.\"\n",
    "]\n",
    "\n",
    "tokenized = [d.lower().replace('.', '').split() for d in docs]\n",
    "vocab = sorted(set(w for doc in tokenized for w in doc))\n",
    "\n",
    "tf = pd.DataFrame([[doc.count(w) for w in vocab] for doc in tokenized],\n",
    "                  columns=vocab, index=[\"D1\", \"D2\", \"D3\", \"D4\"])\n",
    "\n",
    "N = len(docs)\n",
    "idf = [math.log10(N / sum(w in doc for doc in tokenized)) for w in vocab]\n",
    "\n",
    "tfidf = tf * idf\n",
    "\n",
    "q = input(\"Consulta: \").lower().replace('.', '').split()\n",
    "q_vec = pd.Series([q.count(w) * idf[i] for i, w in enumerate(vocab)], index=vocab)\n",
    "\n",
    "def cos_sim(a, b): return np.dot(a, b) / (np.linalg.norm(a) * np.linalg.norm(b) + 1e-10)\n",
    "\n",
    "print(\"\\nSimilitud con la consulta:\")\n",
    "for i in tfidf.index:\n",
    "    sim = cos_sim(tfidf.loc[i], q_vec)\n",
    "    print(f\"{i}: {sim:.4f}\")\n",
    "\n",
    "plt.scatter(tfidf[vocab[0]], tfidf[vocab[1]], color='blue', label='Documentos')\n",
    "plt.scatter(q_vec[vocab[0]], q_vec[vocab[1]], color='red', label='Consulta')\n",
    "for i, label in enumerate(tfidf.index):\n",
    "    plt.annotate(label, (tfidf[vocab[0]][i], tfidf[vocab[1]][i]))\n",
    "plt.annotate(\"       Consulta\", (q_vec[vocab[0]], q_vec[vocab[1]]), color='red')\n",
    "plt.xlabel(vocab[0])\n",
    "plt.ylabel(vocab[1])\n",
    "plt.title(\"TF-IDF 2D: Documentos vs Consulta\")\n",
    "plt.grid()\n",
    "plt.legend()\n",
    "plt.show()\n"
   ]
  },
  {
   "cell_type": "markdown",
   "id": "79961ff9560fb01e",
   "metadata": {},
   "source": [
    "## Parte 3: Consulta por similitud y ranking de documentos\n",
    "\n",
    "### Actividad\n",
    "1. Con la misma representación de vectores, implementar una función que devuelva los documentos más relevantes a una consulta usando similitud coseno.\n",
    "2. Dibuja los vectores (de documentos y de consulta) como flechas desde el origen usando `plt.quiver()` o `plt.arrow()`"
   ]
  },
  {
   "cell_type": "code",
   "execution_count": 16,
   "id": "5062b041",
   "metadata": {},
   "outputs": [
    {
     "name": "stdout",
     "output_type": "stream",
     "text": [
      "\n",
      "Ranking de documentos por similitud:\n",
      "D1: 0.3230\n",
      "D2: 0.1878\n",
      "D3: 0.1443\n",
      "D4: 0.0000\n"
     ]
    },
    {
     "data": {
      "image/png": "[encoded data removed]",
      "text/plain": [
       "<Figure size 800x600 with 1 Axes>"
      ]
     },
     "metadata": {},
     "output_type": "display_data"
    }
   ],
   "source": [
    "import pandas as pd\n",
    "import numpy as np\n",
    "import math\n",
    "import matplotlib.pyplot as plt\n",
    "\n",
    "# Documentos\n",
    "docs = [\n",
    "    \"El gato se escondió debajo de la cama.\",\n",
    "    \"La cama estaba limpia y cómoda.\",\n",
    "    \"El perro y el gato jugaron en el jardín.\",\n",
    "    \"La limpieza del jardín es importante.\"\n",
    "]\n",
    "\n",
    "tokenized = [d.lower().replace('.', '').split() for d in docs]\n",
    "vocab = sorted(set(w for doc in tokenized for w in doc))\n",
    "\n",
    "tf = pd.DataFrame([[doc.count(w) for w in vocab] for doc in tokenized],\n",
    "                  columns=vocab, index=[\"D1\", \"D2\", \"D3\", \"D4\"])\n",
    "N = len(docs)\n",
    "idf = [math.log10(N / sum(w in doc for doc in tokenized)) for w in vocab]\n",
    "tfidf = tf * idf\n",
    "\n",
    "def cos_sim(a, b):\n",
    "    return np.dot(a, b) / (np.linalg.norm(a) * np.linalg.norm(b) + 1e-10)\n",
    "\n",
    "def consulta_similaridad(query):\n",
    "    q_tokens = query.lower().replace('.', '').split()\n",
    "    q_vec = pd.Series([q_tokens.count(w) * idf[i] for i, w in enumerate(vocab)], index=vocab)\n",
    "    \n",
    "    similitudes = {doc: cos_sim(tfidf.loc[doc], q_vec) for doc in tfidf.index}\n",
    "    ranking = sorted(similitudes.items(), key=lambda x: x[1], reverse=True)\n",
    "    \n",
    "    print(\"\\nRanking de documentos por similitud:\")\n",
    "    for doc, sim in ranking:\n",
    "        print(f\"{doc}: {sim:.4f}\")\n",
    "    \n",
    "    return q_vec, ranking\n",
    "\n",
    "consulta = input(\"Consulta: \")\n",
    "q_vec, ranking = consulta_similaridad(consulta)\n",
    "\n",
    "x_key, y_key = vocab[0], vocab[1]\n",
    "\n",
    "plt.figure(figsize=(8,6))\n",
    "for i, doc in enumerate(tfidf.index):\n",
    "    x = tfidf.loc[doc][x_key]\n",
    "    y = tfidf.loc[doc][y_key]\n",
    "    plt.arrow(0, 0, x, y, head_width=0.02, color='blue')\n",
    "    plt.text(x + 0.01, y + 0.01, doc)\n",
    "\n",
    "qx = q_vec[x_key]\n",
    "qy = q_vec[y_key]\n",
    "plt.arrow(0, 0, qx, qy, head_width=0.02, color='red')\n",
    "plt.text(qx + 0.01, qy + 0.01, \"             Consulta\", color='red')\n",
    "\n",
    "plt.title(\"Vectores de documentos y consulta (2D)\")\n",
    "plt.xlabel(x_key)\n",
    "plt.ylabel(y_key)\n",
    "plt.grid()\n",
    "plt.axis('equal')\n",
    "plt.show()\n"
   ]
  },
  {
   "cell_type": "markdown",
   "id": "b7b773c1",
   "metadata": {},
   "source": [
    "PRACTICA EN CLASE"
   ]
  },
  {
   "cell_type": "code",
   "execution_count": null,
   "id": "15f49c2fcfe708cf",
   "metadata": {},
   "outputs": [
    {
     "name": "stdout",
     "output_type": "stream",
     "text": [
      "{'jardín', 'la', 'cómoda', 'limpieza', 'importante', 'en', 'cama', 'perro', 'debajo', 'del', 'jugaron', 'de', 'es', 'el', 'escondió', 'y', 'gato', 'se', 'estaba', 'limpia'}\n"
     ]
    }
   ],
   "source": [
    "vocab =set()\n",
    "for doc in documents:\n",
    "    for word in doc.lower().strip('.').split(sep=' '):\n",
    "        vocab.add(word)\n",
    "print(len(vocab))"
   ]
  },
  {
   "cell_type": "code",
   "execution_count": 45,
   "id": "308857b8",
   "metadata": {},
   "outputs": [
    {
     "name": "stdout",
     "output_type": "stream",
     "text": [
      "{'El gato se escondió debajo de la cama.': {'jardín': 0, 'la': 1, 'cómoda': 0, 'limpieza': 0, 'importante': 0, 'en': 0, 'cama': 1, 'perro': 0, 'debajo': 1, 'del': 0, 'jugaron': 0, 'de': 2, 'es': 1, 'el': 1, 'escondió': 1, 'y': 0, 'gato': 1, 'se': 1, 'estaba': 0, 'limpia': 0}, 'La cama estaba limpia y cómoda.': {'jardín': 0, 'la': 1, 'cómoda': 1, 'limpieza': 0, 'importante': 0, 'en': 0, 'cama': 1, 'perro': 0, 'debajo': 0, 'del': 0, 'jugaron': 0, 'de': 0, 'es': 1, 'el': 0, 'escondió': 0, 'y': 1, 'gato': 0, 'se': 0, 'estaba': 1, 'limpia': 1}, 'El perro y el gato jugaron en el jardín.': {'jardín': 1, 'la': 0, 'cómoda': 0, 'limpieza': 0, 'importante': 0, 'en': 1, 'cama': 0, 'perro': 1, 'debajo': 0, 'del': 0, 'jugaron': 1, 'de': 0, 'es': 0, 'el': 3, 'escondió': 0, 'y': 1, 'gato': 1, 'se': 0, 'estaba': 0, 'limpia': 0}, 'La limpieza del jardín es importante.': {'jardín': 1, 'la': 1, 'cómoda': 0, 'limpieza': 1, 'importante': 1, 'en': 0, 'cama': 0, 'perro': 0, 'debajo': 0, 'del': 1, 'jugaron': 0, 'de': 1, 'es': 1, 'el': 1, 'escondió': 0, 'y': 0, 'gato': 0, 'se': 0, 'estaba': 0, 'limpia': 0}}\n"
     ]
    }
   ],
   "source": [
    "dict_tf = {}\n",
    "i=0\n",
    "for doc in documents:\n",
    "    dict_tfd = {}\n",
    "    for term in vocab:\n",
    "        count = doc.lower().strip('.').count(term)\n",
    "        dict_tfd[term] = count\n",
    "    #print (doc, dict_tfd)\n",
    "    dict_tf[doc] = dict_tfd\n",
    "    i =+ 1\n",
    "print (dict_tf)"
   ]
  },
  {
   "cell_type": "code",
   "execution_count": 50,
   "id": "bd639862",
   "metadata": {},
   "outputs": [
    {
     "data": {
      "text/html": [
       "<div>\n",
       "<style scoped>\n",
       "    .dataframe tbody tr th:only-of-type {\n",
       "        vertical-align: middle;\n",
       "    }\n",
       "\n",
       "    .dataframe tbody tr th {\n",
       "        vertical-align: top;\n",
       "    }\n",
       "\n",
       "    .dataframe thead th {\n",
       "        text-align: right;\n",
       "    }\n",
       "</style>\n",
       "<table border=\"1\" class=\"dataframe\">\n",
       "  <thead>\n",
       "    <tr style=\"text-align: right;\">\n",
       "      <th></th>\n",
       "      <th>jardín</th>\n",
       "      <th>la</th>\n",
       "      <th>cómoda</th>\n",
       "      <th>limpieza</th>\n",
       "      <th>importante</th>\n",
       "      <th>en</th>\n",
       "      <th>cama</th>\n",
       "      <th>perro</th>\n",
       "      <th>debajo</th>\n",
       "      <th>del</th>\n",
       "      <th>jugaron</th>\n",
       "      <th>de</th>\n",
       "      <th>es</th>\n",
       "      <th>el</th>\n",
       "      <th>escondió</th>\n",
       "      <th>y</th>\n",
       "      <th>gato</th>\n",
       "      <th>se</th>\n",
       "      <th>estaba</th>\n",
       "      <th>limpia</th>\n",
       "    </tr>\n",
       "  </thead>\n",
       "  <tbody>\n",
       "    <tr>\n",
       "      <th>El gato se escondió debajo de la cama.</th>\n",
       "      <td>0</td>\n",
       "      <td>1</td>\n",
       "      <td>0</td>\n",
       "      <td>0</td>\n",
       "      <td>0</td>\n",
       "      <td>0</td>\n",
       "      <td>1</td>\n",
       "      <td>0</td>\n",
       "      <td>1</td>\n",
       "      <td>0</td>\n",
       "      <td>0</td>\n",
       "      <td>2</td>\n",
       "      <td>1</td>\n",
       "      <td>1</td>\n",
       "      <td>1</td>\n",
       "      <td>0</td>\n",
       "      <td>1</td>\n",
       "      <td>1</td>\n",
       "      <td>0</td>\n",
       "      <td>0</td>\n",
       "    </tr>\n",
       "    <tr>\n",
       "      <th>La cama estaba limpia y cómoda.</th>\n",
       "      <td>0</td>\n",
       "      <td>1</td>\n",
       "      <td>1</td>\n",
       "      <td>0</td>\n",
       "      <td>0</td>\n",
       "      <td>0</td>\n",
       "      <td>1</td>\n",
       "      <td>0</td>\n",
       "      <td>0</td>\n",
       "      <td>0</td>\n",
       "      <td>0</td>\n",
       "      <td>0</td>\n",
       "      <td>1</td>\n",
       "      <td>0</td>\n",
       "      <td>0</td>\n",
       "      <td>1</td>\n",
       "      <td>0</td>\n",
       "      <td>0</td>\n",
       "      <td>1</td>\n",
       "      <td>1</td>\n",
       "    </tr>\n",
       "    <tr>\n",
       "      <th>El perro y el gato jugaron en el jardín.</th>\n",
       "      <td>1</td>\n",
       "      <td>0</td>\n",
       "      <td>0</td>\n",
       "      <td>0</td>\n",
       "      <td>0</td>\n",
       "      <td>1</td>\n",
       "      <td>0</td>\n",
       "      <td>1</td>\n",
       "      <td>0</td>\n",
       "      <td>0</td>\n",
       "      <td>1</td>\n",
       "      <td>0</td>\n",
       "      <td>0</td>\n",
       "      <td>3</td>\n",
       "      <td>0</td>\n",
       "      <td>1</td>\n",
       "      <td>1</td>\n",
       "      <td>0</td>\n",
       "      <td>0</td>\n",
       "      <td>0</td>\n",
       "    </tr>\n",
       "    <tr>\n",
       "      <th>La limpieza del jardín es importante.</th>\n",
       "      <td>1</td>\n",
       "      <td>1</td>\n",
       "      <td>0</td>\n",
       "      <td>1</td>\n",
       "      <td>1</td>\n",
       "      <td>0</td>\n",
       "      <td>0</td>\n",
       "      <td>0</td>\n",
       "      <td>0</td>\n",
       "      <td>1</td>\n",
       "      <td>0</td>\n",
       "      <td>1</td>\n",
       "      <td>1</td>\n",
       "      <td>1</td>\n",
       "      <td>0</td>\n",
       "      <td>0</td>\n",
       "      <td>0</td>\n",
       "      <td>0</td>\n",
       "      <td>0</td>\n",
       "      <td>0</td>\n",
       "    </tr>\n",
       "  </tbody>\n",
       "</table>\n",
       "</div>"
      ],
      "text/plain": [
       "                                          jardín  la  cómoda  limpieza  \\\n",
       "El gato se escondió debajo de la cama.         0   1       0         0   \n",
       "La cama estaba limpia y cómoda.                0   1       1         0   \n",
       "El perro y el gato jugaron en el jardín.       1   0       0         0   \n",
       "La limpieza del jardín es importante.          1   1       0         1   \n",
       "\n",
       "                                          importante  en  cama  perro  debajo  \\\n",
       "El gato se escondió debajo de la cama.             0   0     1      0       1   \n",
       "La cama estaba limpia y cómoda.                    0   0     1      0       0   \n",
       "El perro y el gato jugaron en el jardín.           0   1     0      1       0   \n",
       "La limpieza del jardín es importante.              1   0     0      0       0   \n",
       "\n",
       "                                          del  jugaron  de  es  el  escondió  \\\n",
       "El gato se escondió debajo de la cama.      0        0   2   1   1         1   \n",
       "La cama estaba limpia y cómoda.             0        0   0   1   0         0   \n",
       "El perro y el gato jugaron en el jardín.    0        1   0   0   3         0   \n",
       "La limpieza del jardín es importante.       1        0   1   1   1         0   \n",
       "\n",
       "                                          y  gato  se  estaba  limpia  \n",
       "El gato se escondió debajo de la cama.    0     1   1       0       0  \n",
       "La cama estaba limpia y cómoda.           1     0   0       1       1  \n",
       "El perro y el gato jugaron en el jardín.  1     1   0       0       0  \n",
       "La limpieza del jardín es importante.     0     0   0       0       0  "
      ]
     },
     "execution_count": 50,
     "metadata": {},
     "output_type": "execute_result"
    }
   ],
   "source": [
    "import pandas as pd\n",
    "\n",
    "matriz = pd.DataFrame(dict_tf)\n",
    "matriz.T"
   ]
  },
  {
   "cell_type": "code",
   "execution_count": 47,
   "id": "7ad24ec1",
   "metadata": {},
   "outputs": [],
   "source": [
    "matriz.to_csv('matriz.csv', index=True)"
   ]
  },
  {
   "cell_type": "code",
   "execution_count": 51,
   "id": "7654a569",
   "metadata": {},
   "outputs": [
    {
     "data": {
      "text/plain": [
       "array([[-1.07928449,  1.73739882],\n",
       "       [-1.35204195, -1.83917526],\n",
       "       [ 2.79812836, -0.18141402],\n",
       "       [-0.36680192,  0.28319046]])"
      ]
     },
     "execution_count": 51,
     "metadata": {},
     "output_type": "execute_result"
    }
   ],
   "source": [
    "from sklearn.decomposition import PCA\n",
    "\n",
    "pca = PCA(n_components=2)\n",
    "docs_2d = pca.fit_transform(matriz.T)\n",
    "docs_2d"
   ]
  },
  {
   "cell_type": "code",
   "execution_count": 17,
   "id": "c30e4042",
   "metadata": {},
   "outputs": [
    {
     "data": {
      "image/png": "[encoded data removed]",
      "text/plain": [
       "<Figure size 1000x600 with 1 Axes>"
      ]
     },
     "metadata": {},
     "output_type": "display_data"
    }
   ],
   "source": [
    "plt.figure(figsize=(10, 6))\n",
    "\n",
    "for i, (x, y) in enumerate(docs_2d):\n",
    "    plt.arrow(0, 0, x, y, head_width=0.02, head_length=0.02, fc='blue', ec='blue')\n",
    "    plt.text(x * 1.1, y * 1.1, f'D{i+1}', fontsize=10)\n",
    "\n",
    "plt.title('Representación vectorial de documentos (TF-IDF + PCA)')\n",
    "plt.xlabel(\"PC1\")\n",
    "plt.ylabel(\"PC2\")\n",
    "plt.axhline(0, color='gray', linestyle='--', linewidth=0.5)\n",
    "plt.axvline(0, color='gray', linestyle='--', linewidth=0.5)\n",
    "plt.grid(True)\n",
    "plt.gca().set_aspect('equal', adjustable='box')\n",
    "plt.show()\n"
   ]
  }
 ],
 "metadata": {
  "kernelspec": {
   "display_name": "Python 3",
   "language": "python",
   "name": "python3"
  },
  "language_info": {
   "codemirror_mode": {
    "name": "ipython",
    "version": 3
   },
   "file_extension": ".py",
   "mimetype": "text/x-python",
   "name": "python",
   "nbconvert_exporter": "python",
   "pygments_lexer": "ipython3",
   "version": "3.13.3"
  }
 },
 "nbformat": 4,
 "nbformat_minor": 5
}
