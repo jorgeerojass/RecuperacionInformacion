{
 "cells": [
  {
   "cell_type": "markdown",
   "id": "19118f9f",
   "metadata": {},
   "source": [
    "## EXAMEN DE RECUPERACION DE LA INFORMACION"
   ]
  },
  {
   "cell_type": "markdown",
   "id": "17e76b96",
   "metadata": {},
   "source": [
    "### SEGUNDO BIMESTRE"
   ]
  },
  {
   "cell_type": "markdown",
   "id": "43c6812c",
   "metadata": {},
   "source": [
    "#### Jorge Rojas"
   ]
  },
  {
   "cell_type": "markdown",
   "id": "c0d4745f",
   "metadata": {},
   "source": [
    "#### CARGA Y EDIT DEL CORPUS"
   ]
  },
  {
   "cell_type": "code",
   "execution_count": 1,
   "id": "ed67c292",
   "metadata": {},
   "outputs": [
    {
     "name": "stdout",
     "output_type": "stream",
     "text": [
      "Collecting kagglehub\n",
      "  Downloading kagglehub-0.3.12-py3-none-any.whl.metadata (38 kB)\n",
      "Requirement already satisfied: packaging in c:\\users\\gboy2\\appdata\\roaming\\python\\python311\\site-packages (from kagglehub) (25.0)\n",
      "Requirement already satisfied: pyyaml in c:\\users\\gboy2\\appdata\\local\\programs\\python\\python311\\lib\\site-packages (from kagglehub) (6.0.2)\n",
      "Requirement already satisfied: requests in c:\\users\\gboy2\\appdata\\local\\programs\\python\\python311\\lib\\site-packages (from kagglehub) (2.32.4)\n",
      "Requirement already satisfied: tqdm in c:\\users\\gboy2\\appdata\\local\\programs\\python\\python311\\lib\\site-packages (from kagglehub) (4.67.1)\n",
      "Requirement already satisfied: charset_normalizer<4,>=2 in c:\\users\\gboy2\\appdata\\local\\programs\\python\\python311\\lib\\site-packages (from requests->kagglehub) (3.4.2)\n",
      "Requirement already satisfied: idna<4,>=2.5 in c:\\users\\gboy2\\appdata\\local\\programs\\python\\python311\\lib\\site-packages (from requests->kagglehub) (3.10)\n",
      "Requirement already satisfied: urllib3<3,>=1.21.1 in c:\\users\\gboy2\\appdata\\local\\programs\\python\\python311\\lib\\site-packages (from requests->kagglehub) (2.5.0)\n",
      "Requirement already satisfied: certifi>=2017.4.17 in c:\\users\\gboy2\\appdata\\local\\programs\\python\\python311\\lib\\site-packages (from requests->kagglehub) (2025.6.15)\n",
      "Requirement already satisfied: colorama in c:\\users\\gboy2\\appdata\\roaming\\python\\python311\\site-packages (from tqdm->kagglehub) (0.4.6)\n",
      "Downloading kagglehub-0.3.12-py3-none-any.whl (67 kB)\n",
      "   ---------------------------------------- 0.0/68.0 kB ? eta -:--:--\n",
      "   ---------------------------------------- 0.0/68.0 kB ? eta -:--:--\n",
      "   ------ --------------------------------- 10.2/68.0 kB ? eta -:--:--\n",
      "   ---------------------------------------- 68.0/68.0 kB 916.8 kB/s eta 0:00:00\n",
      "Installing collected packages: kagglehub\n",
      "Successfully installed kagglehub-0.3.12\n",
      "Note: you may need to restart the kernel to use updated packages.\n"
     ]
    },
    {
     "name": "stderr",
     "output_type": "stream",
     "text": [
      "\n",
      "[notice] A new release of pip is available: 24.0 -> 25.1.1\n",
      "[notice] To update, run: python.exe -m pip install --upgrade pip\n"
     ]
    }
   ],
   "source": [
    "%pip install kagglehub"
   ]
  },
  {
   "cell_type": "code",
   "execution_count": 2,
   "id": "08bee628",
   "metadata": {},
   "outputs": [
    {
     "name": "stderr",
     "output_type": "stream",
     "text": [
      "c:\\Users\\gboy2\\AppData\\Local\\Programs\\Python\\Python311\\Lib\\site-packages\\tqdm\\auto.py:21: TqdmWarning: IProgress not found. Please update jupyter and ipywidgets. See https://ipywidgets.readthedocs.io/en/stable/user_install.html\n",
      "  from .autonotebook import tqdm as notebook_tqdm\n"
     ]
    },
    {
     "name": "stdout",
     "output_type": "stream",
     "text": [
      "Downloading from https://www.kaggle.com/api/v1/datasets/download/Cornell-University/arxiv?dataset_version_number=244...\n"
     ]
    },
    {
     "name": "stderr",
     "output_type": "stream",
     "text": [
      "100%|██████████| 1.47G/1.47G [09:52<00:00, 2.67MB/s] "
     ]
    },
    {
     "name": "stdout",
     "output_type": "stream",
     "text": [
      "Extracting files...\n"
     ]
    },
    {
     "name": "stderr",
     "output_type": "stream",
     "text": [
      "\n"
     ]
    },
    {
     "name": "stdout",
     "output_type": "stream",
     "text": [
      "Path to dataset files: C:\\Users\\gboy2\\.cache\\kagglehub\\datasets\\Cornell-University\\arxiv\\versions\\244\n"
     ]
    }
   ],
   "source": [
    "import kagglehub\n",
    "\n",
    "# Descargamos el dataset\n",
    "path = kagglehub.dataset_download(\"Cornell-University/arxiv\")\n",
    "print(\"Path to dataset files:\", path)\n"
   ]
  },
  {
   "cell_type": "code",
   "execution_count": 3,
   "id": "6a0ffa1c",
   "metadata": {},
   "outputs": [
    {
     "name": "stdout",
     "output_type": "stream",
     "text": [
      "Total documentos: 2792339\n",
      "Corpus reducido a 27923 documentos\n"
     ]
    }
   ],
   "source": [
    "import json\n",
    "import os\n",
    "import random\n",
    "\n",
    "# Cargamos el JSON\n",
    "file_path = os.path.join(path, \"arxiv-metadata-oai-snapshot.json\")  \n",
    "\n",
    "# Leer JSON \n",
    "documents = []\n",
    "with open(file_path, 'r', encoding='utf-8') as f:\n",
    "    for i, line in enumerate(f):\n",
    "        try:\n",
    "            doc = json.loads(line)\n",
    "            documents.append(doc)\n",
    "        except:\n",
    "            continue\n",
    "\n",
    "print(f\"Total documentos: {len(documents)}\")\n",
    "\n",
    "# Tomar solo el 1%\n",
    "subset_size = int(len(documents) * 0.01)\n",
    "subset = random.sample(documents, subset_size)\n",
    "\n",
    "print(f\"Corpus reducido a {len(subset)} documentos\")\n"
   ]
  },
  {
   "cell_type": "code",
   "execution_count": 4,
   "id": "c235f424",
   "metadata": {},
   "outputs": [],
   "source": [
    "with open(\"arxiv_subset.json\", \"w\", encoding=\"utf-8\") as out:\n",
    "    json.dump(subset, out, indent=2)\n"
   ]
  },
  {
   "cell_type": "markdown",
   "id": "c5894667",
   "metadata": {},
   "source": [
    "#### PREPROCESAMIENTO"
   ]
  },
  {
   "cell_type": "code",
   "execution_count": 5,
   "id": "0c83f5f5",
   "metadata": {},
   "outputs": [
    {
     "name": "stderr",
     "output_type": "stream",
     "text": [
      "[nltk_data] Downloading package punkt to C:\\Users\\gboy2/nltk_data...\n",
      "[nltk_data]   Unzipping tokenizers\\punkt.zip.\n",
      "[nltk_data] Downloading package stopwords to\n",
      "[nltk_data]     C:\\Users\\gboy2/nltk_data...\n",
      "[nltk_data]   Unzipping corpora\\stopwords.zip.\n"
     ]
    }
   ],
   "source": [
    "import re\n",
    "import nltk\n",
    "from nltk.corpus import stopwords\n",
    "from nltk.tokenize import word_tokenize\n",
    "nltk.download('punkt')\n",
    "nltk.download('stopwords')\n",
    "\n",
    "stop_words = set(stopwords.words('english'))\n",
    "\n",
    "def preprocess_text(text):\n",
    "    text = text.lower()  # minúsculas\n",
    "    text = re.sub(r'[^\\w\\s]', '', text)  # eliminar puntuación\n",
    "    tokens = word_tokenize(text)  # tokenización\n",
    "    tokens = [word for word in tokens if word not in stop_words]  # quitar stopwords\n",
    "    return \" \".join(tokens)\n"
   ]
  },
  {
   "cell_type": "code",
   "execution_count": 7,
   "id": "d6f1db44",
   "metadata": {},
   "outputs": [
    {
     "name": "stderr",
     "output_type": "stream",
     "text": [
      "[nltk_data] Downloading package punkt to C:\\Users\\gboy2/nltk_data...\n",
      "[nltk_data]   Unzipping tokenizers\\punkt.zip.\n",
      "[nltk_data] Error with downloaded zip file\n"
     ]
    },
    {
     "data": {
      "text/plain": [
       "False"
      ]
     },
     "execution_count": 7,
     "metadata": {},
     "output_type": "execute_result"
    }
   ],
   "source": [
    "import nltk\n",
    "nltk.download('punkt')"
   ]
  },
  {
   "cell_type": "code",
   "execution_count": 11,
   "id": "c6b4cd0a",
   "metadata": {},
   "outputs": [],
   "source": [
    "import nltk\n",
    "nltk.data.path.append(\"C:/Users/gboy2/nltk_data\")\n"
   ]
  },
  {
   "cell_type": "code",
   "execution_count": 13,
   "id": "9a846197",
   "metadata": {},
   "outputs": [
    {
     "name": "stderr",
     "output_type": "stream",
     "text": [
      "[nltk_data] Downloading package punkt to C:\\Users\\gboy2/nltk_data...\n",
      "[nltk_data]   Unzipping tokenizers\\punkt.zip.\n"
     ]
    },
    {
     "data": {
      "text/plain": [
       "True"
      ]
     },
     "execution_count": 13,
     "metadata": {},
     "output_type": "execute_result"
    }
   ],
   "source": [
    "import nltk\n",
    "import shutil\n",
    "import os\n",
    "\n",
    "# Borra manualmente si no lo hiciste antes\n",
    "shutil.rmtree(\"C:/Users/gboy2/nltk_data/tokenizers/punkt\", ignore_errors=True)\n",
    "\n",
    "# Fuerza nueva descarga\n",
    "nltk.download('punkt')\n"
   ]
  },
  {
   "cell_type": "code",
   "execution_count": 1,
   "id": "af982e7a",
   "metadata": {},
   "outputs": [
    {
     "name": "stderr",
     "output_type": "stream",
     "text": [
      "[nltk_data] Downloading package punkt to C:\\Users\\gboy2/nltk_data...\n",
      "[nltk_data]   Unzipping tokenizers\\punkt.zip.\n"
     ]
    },
    {
     "data": {
      "text/plain": [
       "True"
      ]
     },
     "execution_count": 1,
     "metadata": {},
     "output_type": "execute_result"
    }
   ],
   "source": [
    "import nltk\n",
    "nltk.download('punkt')"
   ]
  },
  {
   "cell_type": "code",
   "execution_count": 3,
   "id": "76b61e6d",
   "metadata": {},
   "outputs": [],
   "source": [
    "from sklearn.feature_extraction.text import ENGLISH_STOP_WORDS\n",
    "\n",
    "def preprocess_fallback(text):\n",
    "    text = re.sub(r'[^\\w\\s]', '', text.lower())\n",
    "    tokens = text.split()\n",
    "    return \" \".join([t for t in tokens if t not in ENGLISH_STOP_WORDS])\n"
   ]
  },
  {
   "cell_type": "code",
   "execution_count": 5,
   "id": "29dc74ef",
   "metadata": {},
   "outputs": [
    {
     "name": "stdout",
     "output_type": "stream",
     "text": [
      "✅ Corpus cargado con 27923 documentos\n"
     ]
    }
   ],
   "source": [
    "import json\n",
    "\n",
    "with open(\"arxiv_subset.json\", \"r\", encoding=\"utf-8\") as f:\n",
    "    subset = json.load(f)\n",
    "\n",
    "print(f\"✅ Corpus cargado con {len(subset)} documentos\")\n"
   ]
  },
  {
   "cell_type": "code",
   "execution_count": 7,
   "id": "ef10f3b3",
   "metadata": {},
   "outputs": [],
   "source": [
    "import re\n",
    "\n",
    "processed_docs = []\n",
    "for doc in subset:\n",
    "    combined_text = doc[\"title\"] + \" \" + doc[\"abstract\"]\n",
    "    processed = preprocess_fallback(combined_text)  # usamos la versión sin NLTK\n",
    "    processed_docs.append(processed)\n"
   ]
  },
  {
   "cell_type": "code",
   "execution_count": 9,
   "id": "433d7ec8",
   "metadata": {},
   "outputs": [],
   "source": [
    "processed_docs = []\n",
    "for doc in subset:\n",
    "    combined_text = doc[\"title\"] + \" \" + doc[\"abstract\"]\n",
    "    processed = preprocess_fallback(combined_text)\n",
    "    processed_docs.append(processed)\n"
   ]
  },
  {
   "cell_type": "code",
   "execution_count": 11,
   "id": "6bb5f209",
   "metadata": {},
   "outputs": [],
   "source": [
    "import re\n",
    "from sklearn.feature_extraction.text import ENGLISH_STOP_WORDS\n",
    "\n",
    "def preprocess_fallback(text):\n",
    "    text = re.sub(r'[^\\w\\s]', '', text.lower())  # quitar puntuación y pasar a minúsculas\n",
    "    tokens = text.split()\n",
    "    return \" \".join([t for t in tokens if t not in ENGLISH_STOP_WORDS])  # eliminar stopwords\n",
    "\n",
    "# Inicializar listas\n",
    "processed_docs = []\n",
    "doc_ids = []\n",
    "titles = []\n",
    "abstracts = []\n",
    "\n",
    "# Procesar documentos\n",
    "for doc in subset:\n",
    "    if \"title\" in doc and \"abstract\" in doc:\n",
    "        combined = f\"{doc['title']} {doc['abstract']}\"\n",
    "        cleaned = preprocess_fallback(combined)\n",
    "        processed_docs.append(cleaned)\n",
    "        doc_ids.append(doc[\"id\"])\n",
    "        titles.append(doc[\"title\"])\n",
    "        abstracts.append(doc[\"abstract\"])\n"
   ]
  },
  {
   "cell_type": "markdown",
   "id": "66db5281",
   "metadata": {},
   "source": [
    "#### INDEXACION TF-IDF"
   ]
  },
  {
   "cell_type": "code",
   "execution_count": 12,
   "id": "26489460",
   "metadata": {},
   "outputs": [
    {
     "name": "stdout",
     "output_type": "stream",
     "text": [
      "✅ TF-IDF generado: 27923 documentos, 123310 términos únicos\n"
     ]
    }
   ],
   "source": [
    "from sklearn.feature_extraction.text import TfidfVectorizer\n",
    "\n",
    "# Crear el vectorizador\n",
    "tfidf_vectorizer = TfidfVectorizer()\n",
    "\n",
    "# Aplicar sobre los textos procesados\n",
    "tfidf_matrix = tfidf_vectorizer.fit_transform(processed_docs)\n",
    "\n",
    "print(f\"✅ TF-IDF generado: {tfidf_matrix.shape[0]} documentos, {tfidf_matrix.shape[1]} términos únicos\")\n"
   ]
  },
  {
   "cell_type": "code",
   "execution_count": 13,
   "id": "c0c49b04",
   "metadata": {},
   "outputs": [],
   "source": [
    "def search_tfidf(query, top_k=10):\n",
    "    query_cleaned = preprocess_text(query)\n",
    "    query_vec = tfidf_vectorizer.transform([query_cleaned])\n",
    "    scores = (tfidf_matrix @ query_vec.T).toarray().flatten()\n",
    "    top_indices = scores.argsort()[::-1][:top_k]\n",
    "    \n",
    "    results = []\n",
    "    for idx in top_indices:\n",
    "        results.append({\n",
    "            \"id\": doc_ids[idx],\n",
    "            \"title\": titles[idx],\n",
    "            \"score\": scores[idx],\n",
    "            \"abstract_snippet\": abstracts[idx][:300] + \"...\"\n",
    "        })\n",
    "    return results\n"
   ]
  },
  {
   "cell_type": "code",
   "execution_count": 14,
   "id": "fa0a0a47",
   "metadata": {},
   "outputs": [],
   "source": [
    "from sklearn.feature_extraction.text import TfidfVectorizer\n",
    "\n",
    "# Crear vectorizador y ajustar\n",
    "tfidf_vectorizer = TfidfVectorizer()\n",
    "tfidf_matrix = tfidf_vectorizer.fit_transform(processed_docs)\n"
   ]
  },
  {
   "cell_type": "code",
   "execution_count": 15,
   "id": "51d17529",
   "metadata": {},
   "outputs": [],
   "source": [
    "def search_tfidf(query, top_k=10):\n",
    "    query_clean = preprocess_fallback(query)  # usamos el mismo limpiador\n",
    "    query_vec = tfidf_vectorizer.transform([query_clean])\n",
    "    scores = (tfidf_matrix @ query_vec.T).toarray().flatten()\n",
    "    top_indices = scores.argsort()[::-1][:top_k]\n",
    "    \n",
    "    results = []\n",
    "    for idx in top_indices:\n",
    "        results.append({\n",
    "            \"id\": doc_ids[idx],\n",
    "            \"title\": titles[idx],\n",
    "            \"score\": round(scores[idx], 4),\n",
    "            \"abstract_snippet\": abstracts[idx][:300] + \"...\"\n",
    "        })\n",
    "    return results\n"
   ]
  },
  {
   "cell_type": "markdown",
   "id": "49a44139",
   "metadata": {},
   "source": [
    "##### TEST"
   ]
  },
  {
   "cell_type": "code",
   "execution_count": 16,
   "id": "03a6e626",
   "metadata": {},
   "outputs": [
    {
     "name": "stdout",
     "output_type": "stream",
     "text": [
      "🔹 Lecture notes on \"Quantum chromodynamics and statistical physics\" (Score: 0.5282)\n",
      "📝   The concepts and methods used for the study of disordered systems have proven\n",
      "useful in the analysis of the evolution equations of quantum chromodynamics in\n",
      "the high-energy regime: Indeed, parton branching in the semi-classical\n",
      "approximation relevant at high energies is a peculiar branching-diffus...\n",
      "\n",
      "🔹 Effective Fields in Dense Quantum Chromodynamics (Score: 0.4744)\n",
      "📝   In the high density, low temperature limit, Quantum Chromodynamics exhibits a\n",
      "transition to phases characterized by color superconductivity and energy gaps\n",
      "in the fermion spectra. We review some fundamental results obtained in this\n",
      "area and in particular we describe the low energy effective lagran...\n",
      "\n",
      "🔹 The universal quantum driving force to speed up a quantum computation --\n",
      "  The unitary quantum dynamics (Score: 0.2417)\n",
      "📝   It is shown in the paper that the unitary quantum dynamics in quantum\n",
      "mechanics is the universal quantum driving force to speed up a quantum\n",
      "computation. This assertion supports strongly in theory that the unitary\n",
      "quantum dynamics is the fundamental and universal principle in nature. On the\n",
      "other ...\n",
      "\n",
      "🔹 Inhomogeneous color superconductivity and the cooling of compact stars (Score: 0.2378)\n",
      "📝   In this talk I discuss the inhomogeneous (LOFF) color superconductive phases\n",
      "of Quantum Chromodynamics (QCD). In particular, I show the effect of a core of\n",
      "LOFF phase on the cooling of a compact star.\n",
      "...\n",
      "\n",
      "🔹 Ising Meson Spectroscopy on a Noisy Digital Quantum Simulator (Score: 0.2375)\n",
      "📝   Quantum simulation has the potential to be an indispensable technique for the\n",
      "investigation of non-perturbative phenomena in strongly-interacting quantum\n",
      "field theories (QFTs). In the modern quantum era, with Noisy Intermediate Scale\n",
      "Quantum~(NISQ) simulators widely available and larger-scale quan...\n",
      "\n",
      "🔹 Quantum Chromodynamics (CERN-2014-001) (Score: 0.2366)\n",
      "📝   I review the basics of perturbative QCD, including infrared divergences and\n",
      "safety, collinear and $k_T$ factorization theorems, and various evolution\n",
      "equations and resummation techniques for single- and double-logarithmic\n",
      "corrections. I then elaborate its applications to studies of jet substructur...\n",
      "\n",
      "🔹 Quantum information science as an approach to complex quantum systems (Score: 0.2159)\n",
      "📝   What makes quantum information science a science? These notes explore the\n",
      "idea that quantum information science may offer a powerful approach to the\n",
      "study of complex quantum systems. We discuss how to quantify complexity in\n",
      "quantum systems, and argue that there are two qualitatively different type...\n",
      "\n",
      "🔹 An Introduction to Quantum Computing (Score: 0.215)\n",
      "📝   Quantum Computing is a new and exciting field at the intersection of\n",
      "mathematics, computer science and physics. It concerns a utilization of quantum\n",
      "mechanics to improve the efficiency of computation. Here we present a gentle\n",
      "introduction to some of the ideas in quantum computing. The paper begins...\n",
      "\n",
      "🔹 Baryons as Relativistic Three-Quark Systems (Score: 0.2116)\n",
      "📝   We discuss some recent developments in the description of baryons as\n",
      "three-quark systems within relativistic constituent quark models. In particular\n",
      "we address the issues of excitation spectra, electroweak structure, and mesonic\n",
      "resonance decays. The necessities of implementing simultaneously the ...\n",
      "\n",
      "🔹 Genetic Algorithms and Quantum Computation (Score: 0.2115)\n",
      "📝   Recently, researchers have applied genetic algorithms (GAs) to address some\n",
      "problems in quantum computation. Also, there has been some works in the\n",
      "designing of genetic algorithms based on quantum theoretical concepts and\n",
      "techniques. The so called Quantum Evolutionary Programming has two major\n",
      "sub...\n",
      "\n"
     ]
    }
   ],
   "source": [
    "query = \"quantum chromodynamics\"\n",
    "results = search_tfidf(query)\n",
    "\n",
    "for r in results:\n",
    "    print(f\"🔹 {r['title']} (Score: {r['score']})\")\n",
    "    print(f\"📝 {r['abstract_snippet']}\\n\")\n"
   ]
  },
  {
   "cell_type": "code",
   "execution_count": 17,
   "id": "fd6fe2a9",
   "metadata": {},
   "outputs": [
    {
     "name": "stdout",
     "output_type": "stream",
     "text": [
      "Collecting rank_bm25\n",
      "  Downloading rank_bm25-0.2.2-py3-none-any.whl.metadata (3.2 kB)\n",
      "Requirement already satisfied: numpy in c:\\users\\gboy2\\appdata\\local\\programs\\python\\python311\\lib\\site-packages (from rank_bm25) (2.2.6)\n",
      "Downloading rank_bm25-0.2.2-py3-none-any.whl (8.6 kB)\n",
      "Installing collected packages: rank_bm25\n",
      "Successfully installed rank_bm25-0.2.2\n",
      "Note: you may need to restart the kernel to use updated packages.\n"
     ]
    },
    {
     "name": "stderr",
     "output_type": "stream",
     "text": [
      "\n",
      "[notice] A new release of pip is available: 24.0 -> 25.1.1\n",
      "[notice] To update, run: python.exe -m pip install --upgrade pip\n"
     ]
    }
   ],
   "source": [
    "%pip install rank_bm25"
   ]
  },
  {
   "cell_type": "code",
   "execution_count": 19,
   "id": "9b1404e8",
   "metadata": {},
   "outputs": [],
   "source": [
    "def simple_tokenize(text):\n",
    "    text = re.sub(r'[^\\w\\s]', '', text.lower())\n",
    "    return [t for t in text.split() if t not in ENGLISH_STOP_WORDS]\n",
    "\n",
    "tokenized_docs = [simple_tokenize(doc) for doc in processed_docs]\n"
   ]
  },
  {
   "cell_type": "code",
   "execution_count": 52,
   "id": "9f3d4d88",
   "metadata": {},
   "outputs": [],
   "source": [
    "from rank_bm25 import BM25Okapi\n",
    "\n",
    "bm25_model = BM25Okapi(tokenized_docs)"
   ]
  },
  {
   "cell_type": "code",
   "execution_count": 53,
   "id": "74e48d61",
   "metadata": {},
   "outputs": [],
   "source": [
    "def search_bm25(query, top_k=10):\n",
    "    query_tokens = simple_tokenize(query)\n",
    "    scores = bm25_model.get_scores(query_tokens)\n",
    "    top_indices = sorted(range(len(scores)), key=lambda i: scores[i], reverse=True)[:top_k]\n",
    "\n",
    "    results = []\n",
    "    for idx in top_indices:\n",
    "        results.append({\n",
    "            \"id\": doc_ids[idx],\n",
    "            \"title\": titles[idx],\n",
    "            \"score\": round(scores[idx], 4),\n",
    "            \"abstract_snippet\": abstracts[idx][:300] + \"...\"\n",
    "        })\n",
    "    return results"
   ]
  },
  {
   "cell_type": "markdown",
   "id": "54f2f4bd",
   "metadata": {},
   "source": [
    "##### TEST"
   ]
  },
  {
   "cell_type": "code",
   "execution_count": 54,
   "id": "98d8fc9a",
   "metadata": {},
   "outputs": [
    {
     "name": "stdout",
     "output_type": "stream",
     "text": [
      "🔹 Lecture notes on \"Quantum chromodynamics and statistical physics\" (Score: 16.86)\n",
      "📝   The concepts and methods used for the study of disordered systems have proven\n",
      "useful in the analysis of the evolution equations of quantum chromodynamics in\n",
      "the high-energy regime: Indeed, parton branching in the semi-classical\n",
      "approximation relevant at high energies is a peculiar branching-diffus...\n",
      "\n",
      "🔹 Effective Fields in Dense Quantum Chromodynamics (Score: 15.85)\n",
      "📝   In the high density, low temperature limit, Quantum Chromodynamics exhibits a\n",
      "transition to phases characterized by color superconductivity and energy gaps\n",
      "in the fermion spectra. We review some fundamental results obtained in this\n",
      "area and in particular we describe the low energy effective lagran...\n",
      "\n",
      "🔹 Inhomogeneous color superconductivity and the cooling of compact stars (Score: 13.72)\n",
      "📝   In this talk I discuss the inhomogeneous (LOFF) color superconductive phases\n",
      "of Quantum Chromodynamics (QCD). In particular, I show the effect of a core of\n",
      "LOFF phase on the cooling of a compact star.\n",
      "...\n",
      "\n",
      "🔹 Quantum Chromodynamics (CERN-2014-001) (Score: 12.95)\n",
      "📝   I review the basics of perturbative QCD, including infrared divergences and\n",
      "safety, collinear and $k_T$ factorization theorems, and various evolution\n",
      "equations and resummation techniques for single- and double-logarithmic\n",
      "corrections. I then elaborate its applications to studies of jet substructur...\n",
      "\n",
      "🔹 Baryons as Relativistic Three-Quark Systems (Score: 12.68)\n",
      "📝   We discuss some recent developments in the description of baryons as\n",
      "three-quark systems within relativistic constituent quark models. In particular\n",
      "we address the issues of excitation spectra, electroweak structure, and mesonic\n",
      "resonance decays. The necessities of implementing simultaneously the ...\n",
      "\n",
      "🔹 Non-perturbative aspects of (supersymmetric) gauge theories (Score: 11.71)\n",
      "📝   At an elementary level, we present some non-perturbative aspects of\n",
      "non-abelian gauge theories in four dimensional space-time. Some rigorous\n",
      "results have been obtained in the framework of supersymmetric theories, and a\n",
      "very rich physics related to the strong-coupling dynamics of gauge fields has\n",
      "b...\n",
      "\n",
      "🔹 Heavy Flavour Production at HERA (Score: 11.42)\n",
      "📝   The production of charm and beauty quarks in ep collisions at HERA has been\n",
      "studied by the H1 and ZEUS collaborations. Charm production is generally well\n",
      "described in total rate and in shape by next to leading order (NLO)\n",
      "calculations in perturbative quantum chromodynamics (QCD), although in speci...\n",
      "\n",
      "🔹 Hadronic vacuum polarization function within dispersive approach to QCD (Score: 10.88)\n",
      "📝   The dispersive approach to quantum chromodynamics is applied to the study of\n",
      "the hadronic vacuum polarization function and associated quantities. This\n",
      "approach merges the intrinsically nonperturbative constraints, which originate\n",
      "in the kinematic restrictions on the respective physical processes, ...\n",
      "\n",
      "🔹 Ising Meson Spectroscopy on a Noisy Digital Quantum Simulator (Score: 10.58)\n",
      "📝   Quantum simulation has the potential to be an indispensable technique for the\n",
      "investigation of non-perturbative phenomena in strongly-interacting quantum\n",
      "field theories (QFTs). In the modern quantum era, with Noisy Intermediate Scale\n",
      "Quantum~(NISQ) simulators widely available and larger-scale quan...\n",
      "\n",
      "🔹 Pseudo-unitary symmetry and the Gaussian pseudo-unitary ensemble of\n",
      "  random matrices (Score: 10.33)\n",
      "📝   Employing the currently discussed notion of pseudo-Hermiticity, we define a\n",
      "pseudo-unitary group. Further, we develop a random matrix theory which is\n",
      "invariant under such a group and call this ensemble of pseudo-Hermitian random\n",
      "matrices as the pseudo-unitary ensemble. We obtain exact results for ...\n",
      "\n"
     ]
    }
   ],
   "source": [
    "query = \"quantum chromodynamics\"\n",
    "results = search_bm25(query)\n",
    "\n",
    "for r in results:\n",
    "    print(f\"🔹 {r['title']} (Score: {r['score']:.2f})\")\n",
    "    print(f\"📝 {r['abstract_snippet']}\\n\")\n"
   ]
  },
  {
   "cell_type": "code",
   "execution_count": 23,
   "id": "e3364a01",
   "metadata": {},
   "outputs": [
    {
     "name": "stdout",
     "output_type": "stream",
     "text": [
      "Requirement already satisfied: sentence-transformers in c:\\users\\gboy2\\appdata\\local\\programs\\python\\python311\\lib\\site-packages (4.1.0)\n",
      "Requirement already satisfied: faiss-cpu in c:\\users\\gboy2\\appdata\\local\\programs\\python\\python311\\lib\\site-packages (1.11.0)\n",
      "Requirement already satisfied: transformers<5.0.0,>=4.41.0 in c:\\users\\gboy2\\appdata\\local\\programs\\python\\python311\\lib\\site-packages (from sentence-transformers) (4.53.0)\n",
      "Requirement already satisfied: tqdm in c:\\users\\gboy2\\appdata\\local\\programs\\python\\python311\\lib\\site-packages (from sentence-transformers) (4.67.1)\n",
      "Requirement already satisfied: torch>=1.11.0 in c:\\users\\gboy2\\appdata\\local\\programs\\python\\python311\\lib\\site-packages (from sentence-transformers) (2.7.1)\n",
      "Requirement already satisfied: scikit-learn in c:\\users\\gboy2\\appdata\\local\\programs\\python\\python311\\lib\\site-packages (from sentence-transformers) (1.7.0)\n",
      "Requirement already satisfied: scipy in c:\\users\\gboy2\\appdata\\local\\programs\\python\\python311\\lib\\site-packages (from sentence-transformers) (1.13.1)\n",
      "Requirement already satisfied: huggingface-hub>=0.20.0 in c:\\users\\gboy2\\appdata\\local\\programs\\python\\python311\\lib\\site-packages (from sentence-transformers) (0.33.1)\n",
      "Requirement already satisfied: Pillow in c:\\users\\gboy2\\appdata\\local\\programs\\python\\python311\\lib\\site-packages (from sentence-transformers) (11.2.1)\n",
      "Requirement already satisfied: typing_extensions>=4.5.0 in c:\\users\\gboy2\\appdata\\roaming\\python\\python311\\site-packages (from sentence-transformers) (4.14.0)\n",
      "Requirement already satisfied: numpy<3.0,>=1.25.0 in c:\\users\\gboy2\\appdata\\local\\programs\\python\\python311\\lib\\site-packages (from faiss-cpu) (2.2.6)\n",
      "Requirement already satisfied: packaging in c:\\users\\gboy2\\appdata\\roaming\\python\\python311\\site-packages (from faiss-cpu) (25.0)\n",
      "Requirement already satisfied: filelock in c:\\users\\gboy2\\appdata\\local\\programs\\python\\python311\\lib\\site-packages (from huggingface-hub>=0.20.0->sentence-transformers) (3.18.0)\n",
      "Requirement already satisfied: fsspec>=2023.5.0 in c:\\users\\gboy2\\appdata\\local\\programs\\python\\python311\\lib\\site-packages (from huggingface-hub>=0.20.0->sentence-transformers) (2025.5.1)\n",
      "Requirement already satisfied: pyyaml>=5.1 in c:\\users\\gboy2\\appdata\\local\\programs\\python\\python311\\lib\\site-packages (from huggingface-hub>=0.20.0->sentence-transformers) (6.0.2)\n",
      "Requirement already satisfied: requests in c:\\users\\gboy2\\appdata\\local\\programs\\python\\python311\\lib\\site-packages (from huggingface-hub>=0.20.0->sentence-transformers) (2.32.4)\n",
      "Requirement already satisfied: sympy>=1.13.3 in c:\\users\\gboy2\\appdata\\local\\programs\\python\\python311\\lib\\site-packages (from torch>=1.11.0->sentence-transformers) (1.14.0)\n",
      "Requirement already satisfied: networkx in c:\\users\\gboy2\\appdata\\local\\programs\\python\\python311\\lib\\site-packages (from torch>=1.11.0->sentence-transformers) (3.5)\n",
      "Requirement already satisfied: jinja2 in c:\\users\\gboy2\\appdata\\local\\programs\\python\\python311\\lib\\site-packages (from torch>=1.11.0->sentence-transformers) (3.1.6)\n",
      "Requirement already satisfied: colorama in c:\\users\\gboy2\\appdata\\roaming\\python\\python311\\site-packages (from tqdm->sentence-transformers) (0.4.6)\n",
      "Requirement already satisfied: regex!=2019.12.17 in c:\\users\\gboy2\\appdata\\local\\programs\\python\\python311\\lib\\site-packages (from transformers<5.0.0,>=4.41.0->sentence-transformers) (2024.11.6)\n",
      "Requirement already satisfied: tokenizers<0.22,>=0.21 in c:\\users\\gboy2\\appdata\\local\\programs\\python\\python311\\lib\\site-packages (from transformers<5.0.0,>=4.41.0->sentence-transformers) (0.21.2)\n",
      "Requirement already satisfied: safetensors>=0.4.3 in c:\\users\\gboy2\\appdata\\local\\programs\\python\\python311\\lib\\site-packages (from transformers<5.0.0,>=4.41.0->sentence-transformers) (0.5.3)\n",
      "Requirement already satisfied: joblib>=1.2.0 in c:\\users\\gboy2\\appdata\\local\\programs\\python\\python311\\lib\\site-packages (from scikit-learn->sentence-transformers) (1.5.1)\n",
      "Requirement already satisfied: threadpoolctl>=3.1.0 in c:\\users\\gboy2\\appdata\\local\\programs\\python\\python311\\lib\\site-packages (from scikit-learn->sentence-transformers) (3.6.0)\n",
      "Requirement already satisfied: mpmath<1.4,>=1.1.0 in c:\\users\\gboy2\\appdata\\local\\programs\\python\\python311\\lib\\site-packages (from sympy>=1.13.3->torch>=1.11.0->sentence-transformers) (1.3.0)\n",
      "Requirement already satisfied: MarkupSafe>=2.0 in c:\\users\\gboy2\\appdata\\local\\programs\\python\\python311\\lib\\site-packages (from jinja2->torch>=1.11.0->sentence-transformers) (3.0.2)\n",
      "Requirement already satisfied: charset_normalizer<4,>=2 in c:\\users\\gboy2\\appdata\\local\\programs\\python\\python311\\lib\\site-packages (from requests->huggingface-hub>=0.20.0->sentence-transformers) (3.4.2)\n",
      "Requirement already satisfied: idna<4,>=2.5 in c:\\users\\gboy2\\appdata\\local\\programs\\python\\python311\\lib\\site-packages (from requests->huggingface-hub>=0.20.0->sentence-transformers) (3.10)\n",
      "Requirement already satisfied: urllib3<3,>=1.21.1 in c:\\users\\gboy2\\appdata\\local\\programs\\python\\python311\\lib\\site-packages (from requests->huggingface-hub>=0.20.0->sentence-transformers) (2.5.0)\n",
      "Requirement already satisfied: certifi>=2017.4.17 in c:\\users\\gboy2\\appdata\\local\\programs\\python\\python311\\lib\\site-packages (from requests->huggingface-hub>=0.20.0->sentence-transformers) (2025.6.15)\n",
      "Note: you may need to restart the kernel to use updated packages.\n"
     ]
    },
    {
     "name": "stderr",
     "output_type": "stream",
     "text": [
      "\n",
      "[notice] A new release of pip is available: 24.0 -> 25.1.1\n",
      "[notice] To update, run: python.exe -m pip install --upgrade pip\n"
     ]
    }
   ],
   "source": [
    "%pip install sentence-transformers faiss-cpu"
   ]
  },
  {
   "cell_type": "code",
   "execution_count": 24,
   "id": "411cd5c2",
   "metadata": {},
   "outputs": [
    {
     "name": "stderr",
     "output_type": "stream",
     "text": [
      "c:\\Users\\gboy2\\AppData\\Local\\Programs\\Python\\Python311\\Lib\\site-packages\\tqdm\\auto.py:21: TqdmWarning: IProgress not found. Please update jupyter and ipywidgets. See https://ipywidgets.readthedocs.io/en/stable/user_install.html\n",
      "  from .autonotebook import tqdm as notebook_tqdm\n",
      "Batches: 100%|██████████| 873/873 [06:13<00:00,  2.34it/s]"
     ]
    },
    {
     "name": "stdout",
     "output_type": "stream",
     "text": [
      "✅ FAISS cargado con 27923 documentos\n"
     ]
    },
    {
     "name": "stderr",
     "output_type": "stream",
     "text": [
      "\n"
     ]
    }
   ],
   "source": [
    "from sentence_transformers import SentenceTransformer\n",
    "import numpy as np\n",
    "import faiss\n",
    "\n",
    "# Cargar modelo\n",
    "embedding_model = SentenceTransformer(\"all-MiniLM-L6-v2\")\n",
    "\n",
    "# Generar embeddings del corpus\n",
    "corpus_embeddings = embedding_model.encode(processed_docs, show_progress_bar=True)\n",
    "\n",
    "# Crear índice FAISS (distancia L2)\n",
    "dimension = corpus_embeddings.shape[1]\n",
    "index = faiss.IndexFlatL2(dimension)\n",
    "index.add(np.array(corpus_embeddings))\n",
    "\n",
    "print(\"✅ FAISS cargado con\", index.ntotal, \"documentos\")"
   ]
  },
  {
   "cell_type": "code",
   "execution_count": 25,
   "id": "b44941a6",
   "metadata": {},
   "outputs": [],
   "source": [
    "def search_faiss(query, top_k=10):\n",
    "    query_vec = embedding_model.encode([query])\n",
    "    D, I = index.search(np.array(query_vec), top_k)\n",
    "\n",
    "    results = []\n",
    "    for idx in I[0]:\n",
    "        results.append({\n",
    "            \"id\": doc_ids[idx],\n",
    "            \"title\": titles[idx],\n",
    "            \"score\": round(D[0][list(I[0]).index(idx)], 4),\n",
    "            \"abstract_snippet\": abstracts[idx][:300] + \"...\"\n",
    "        })\n",
    "    return results\n"
   ]
  },
  {
   "cell_type": "markdown",
   "id": "5b6618c6",
   "metadata": {},
   "source": [
    "##### TEST"
   ]
  },
  {
   "cell_type": "code",
   "execution_count": 26,
   "id": "aa581015",
   "metadata": {},
   "outputs": [
    {
     "name": "stdout",
     "output_type": "stream",
     "text": [
      "🔹 Lecture notes on \"Quantum chromodynamics and statistical physics\" (Distancia: 0.7078999876976013)\n",
      "📝   The concepts and methods used for the study of disordered systems have proven\n",
      "useful in the analysis of the evolution equations of quantum chromodynamics in\n",
      "the high-energy regime: Indeed, parton branching in the semi-classical\n",
      "approximation relevant at high energies is a peculiar branching-diffus...\n",
      "\n",
      "🔹 Quantum Chromodynamics (CERN-2014-001) (Distancia: 0.9210000038146973)\n",
      "📝   I review the basics of perturbative QCD, including infrared divergences and\n",
      "safety, collinear and $k_T$ factorization theorems, and various evolution\n",
      "equations and resummation techniques for single- and double-logarithmic\n",
      "corrections. I then elaborate its applications to studies of jet substructur...\n",
      "\n",
      "🔹 Effective Fields in Dense Quantum Chromodynamics (Distancia: 0.9318000078201294)\n",
      "📝   In the high density, low temperature limit, Quantum Chromodynamics exhibits a\n",
      "transition to phases characterized by color superconductivity and energy gaps\n",
      "in the fermion spectra. We review some fundamental results obtained in this\n",
      "area and in particular we describe the low energy effective lagran...\n",
      "\n",
      "🔹 Further remarks on quantum mechanics and integrable systems (Distancia: 1.023300051689148)\n",
      "📝   Further formulas are presented involving quantum mechanics, thermodynamics,\n",
      "and integrable systems. Modifications of dispersionless theory are developed.\n",
      "...\n",
      "\n",
      "🔹 Thermodynamics of Dipolar Chain Systems (Distancia: 1.0625)\n",
      "📝   The thermodynamics of a quantum system of layers containing perpendicularly\n",
      "oriented dipolar molecules is studied within an oscillator approximation for\n",
      "both bosonic and fermionic species. The system is assumed to be built from\n",
      "chains with one molecule in each layer. We consider the effects of the...\n",
      "\n",
      "🔹 Tunneling Time Distribution by means of Nelson's Quantum Mechanics and\n",
      "  Wave-Particle Duality (Distancia: 1.09089994430542)\n",
      "📝   We calculate a tunneling time distribution by means of Nelson's quantum\n",
      "mechanics and investigate its statistical properties. The relationship between\n",
      "the average and deviation of tunneling time suggests the exsistence of\n",
      "``wave-particle duality'' in the tunneling phenomena.\n",
      "...\n",
      "\n",
      "🔹 `Iconoclastic', Categorical Quantum Gravity (Distancia: 1.1087000370025635)\n",
      "📝   This is a two-part, `2-in-1' paper. In Part I, the introductory talk at\n",
      "`Glafka--2004: Iconoclastic Approaches to Quantum Gravity' international\n",
      "theoretical physics conference is presented in paper form (without references).\n",
      "In Part II, the more technical talk, originally titled ``Abstract Differe...\n",
      "\n",
      "🔹 Thermodynamic length for far from equilibrium quantum systems (Distancia: 1.1146999597549438)\n",
      "📝   We consider a closed quantum system, initially at thermal equilibrium, driven\n",
      "by arbitrary external parameters. We derive a lower bound on the entropy\n",
      "production which we express in terms of the Bures angle between the\n",
      "nonequilibrium and the corresponding equilibrium state of the system. The Bures...\n",
      "\n",
      "🔹 Hamiltonian monodromy as lattice defect (Distancia: 1.1297999620437622)\n",
      "📝   The analogy between monodromy in dynamical (Hamiltonian) systems and defects\n",
      "in crystal lattices is used in order to formulate some general conjectures\n",
      "about possible types of qualitative features of quantum systems which can be\n",
      "interpreted as a manifestation of classical monodromy in quantum fini...\n",
      "\n",
      "🔹 Topological invariant and cotranslational symmetry in strongly\n",
      "  interacting multi-magnon systems (Distancia: 1.1298999786376953)\n",
      "📝   It is still an outstanding challenge to characterize and understand the\n",
      "topological features of strongly interacting states such as bound-states in\n",
      "interacting quantum systems. Here, by introducing a cotranslational symmetry in\n",
      "an interacting multi-particle quantum system, we systematically develo...\n",
      "\n"
     ]
    }
   ],
   "source": [
    "results = search_faiss(\"quantum chromodynamics\")\n",
    "for r in results:\n",
    "    print(f\"🔹 {r['title']} (Distancia: {r['score']})\")\n",
    "    print(f\"📝 {r['abstract_snippet']}\\n\")\n"
   ]
  },
  {
   "cell_type": "markdown",
   "id": "35284eb8",
   "metadata": {},
   "source": [
    "#### EVALUACION ENTRE MODELOS"
   ]
  },
  {
   "cell_type": "code",
   "execution_count": 30,
   "id": "79deaf66",
   "metadata": {},
   "outputs": [
    {
     "name": "stdout",
     "output_type": "stream",
     "text": [
      "🔎 Coincidencias en Top-10:\n",
      "TF-IDF & BM25: 6\n",
      "TF-IDF & FAISS: 3\n",
      "BM25 & FAISS: 3\n"
     ]
    },
    {
     "data": {
      "text/html": [
       "<div>\n",
       "<style scoped>\n",
       "    .dataframe tbody tr th:only-of-type {\n",
       "        vertical-align: middle;\n",
       "    }\n",
       "\n",
       "    .dataframe tbody tr th {\n",
       "        vertical-align: top;\n",
       "    }\n",
       "\n",
       "    .dataframe thead th {\n",
       "        text-align: right;\n",
       "    }\n",
       "</style>\n",
       "<table border=\"1\" class=\"dataframe\">\n",
       "  <thead>\n",
       "    <tr style=\"text-align: right;\">\n",
       "      <th></th>\n",
       "      <th>Rank</th>\n",
       "      <th>TF-IDF_ID</th>\n",
       "      <th>BM25_ID</th>\n",
       "      <th>FAISS_ID</th>\n",
       "      <th>TFIDF == BM25</th>\n",
       "      <th>TFIDF == FAISS</th>\n",
       "      <th>BM25 == FAISS</th>\n",
       "      <th>TFIDF_Title</th>\n",
       "    </tr>\n",
       "  </thead>\n",
       "  <tbody>\n",
       "    <tr>\n",
       "      <th>0</th>\n",
       "      <td>1</td>\n",
       "      <td>1410.6478</td>\n",
       "      <td>1410.6478</td>\n",
       "      <td>1410.6478</td>\n",
       "      <td>True</td>\n",
       "      <td>True</td>\n",
       "      <td>True</td>\n",
       "      <td>Lecture notes on \"Quantum chromodynamics and s...</td>\n",
       "    </tr>\n",
       "    <tr>\n",
       "      <th>1</th>\n",
       "      <td>2</td>\n",
       "      <td>hep-ph/0206065</td>\n",
       "      <td>hep-ph/0206065</td>\n",
       "      <td>1406.7689</td>\n",
       "      <td>True</td>\n",
       "      <td>False</td>\n",
       "      <td>False</td>\n",
       "      <td>Effective Fields in Dense Quantum Chromodynamics</td>\n",
       "    </tr>\n",
       "    <tr>\n",
       "      <th>2</th>\n",
       "      <td>3</td>\n",
       "      <td>1105.3573</td>\n",
       "      <td>0704.1724</td>\n",
       "      <td>hep-ph/0206065</td>\n",
       "      <td>False</td>\n",
       "      <td>False</td>\n",
       "      <td>False</td>\n",
       "      <td>The universal quantum driving force to speed u...</td>\n",
       "    </tr>\n",
       "    <tr>\n",
       "      <th>3</th>\n",
       "      <td>4</td>\n",
       "      <td>0704.1724</td>\n",
       "      <td>1406.7689</td>\n",
       "      <td>hep-th/9610216</td>\n",
       "      <td>False</td>\n",
       "      <td>False</td>\n",
       "      <td>False</td>\n",
       "      <td>Inhomogeneous color superconductivity and the ...</td>\n",
       "    </tr>\n",
       "    <tr>\n",
       "      <th>4</th>\n",
       "      <td>5</td>\n",
       "      <td>2303.03311</td>\n",
       "      <td>nucl-th/0306021</td>\n",
       "      <td>1112.6141</td>\n",
       "      <td>False</td>\n",
       "      <td>False</td>\n",
       "      <td>False</td>\n",
       "      <td>Ising Meson Spectroscopy on a Noisy Digital Qu...</td>\n",
       "    </tr>\n",
       "    <tr>\n",
       "      <th>5</th>\n",
       "      <td>6</td>\n",
       "      <td>1406.7689</td>\n",
       "      <td>hep-ph/9702399</td>\n",
       "      <td>quant-ph/0210119</td>\n",
       "      <td>False</td>\n",
       "      <td>False</td>\n",
       "      <td>False</td>\n",
       "      <td>Quantum Chromodynamics (CERN-2014-001)</td>\n",
       "    </tr>\n",
       "    <tr>\n",
       "      <th>6</th>\n",
       "      <td>7</td>\n",
       "      <td>quant-ph/0208078</td>\n",
       "      <td>hep-ex/0605089</td>\n",
       "      <td>gr-qc/0509089</td>\n",
       "      <td>False</td>\n",
       "      <td>False</td>\n",
       "      <td>False</td>\n",
       "      <td>Quantum information science as an approach to ...</td>\n",
       "    </tr>\n",
       "    <tr>\n",
       "      <th>7</th>\n",
       "      <td>8</td>\n",
       "      <td>0708.0261</td>\n",
       "      <td>1411.2554</td>\n",
       "      <td>1212.2055</td>\n",
       "      <td>False</td>\n",
       "      <td>False</td>\n",
       "      <td>False</td>\n",
       "      <td>An Introduction to Quantum Computing</td>\n",
       "    </tr>\n",
       "    <tr>\n",
       "      <th>8</th>\n",
       "      <td>9</td>\n",
       "      <td>nucl-th/0306021</td>\n",
       "      <td>2303.03311</td>\n",
       "      <td>quant-ph/0303181</td>\n",
       "      <td>False</td>\n",
       "      <td>False</td>\n",
       "      <td>False</td>\n",
       "      <td>Baryons as Relativistic Three-Quark Systems</td>\n",
       "    </tr>\n",
       "    <tr>\n",
       "      <th>9</th>\n",
       "      <td>10</td>\n",
       "      <td>cs/0403003</td>\n",
       "      <td>quant-ph/0209165</td>\n",
       "      <td>1611.00205</td>\n",
       "      <td>False</td>\n",
       "      <td>False</td>\n",
       "      <td>False</td>\n",
       "      <td>Genetic Algorithms and Quantum Computation</td>\n",
       "    </tr>\n",
       "  </tbody>\n",
       "</table>\n",
       "</div>"
      ],
      "text/plain": [
       "   Rank         TF-IDF_ID           BM25_ID          FAISS_ID  TFIDF == BM25  \\\n",
       "0     1         1410.6478         1410.6478         1410.6478           True   \n",
       "1     2    hep-ph/0206065    hep-ph/0206065         1406.7689           True   \n",
       "2     3         1105.3573         0704.1724    hep-ph/0206065          False   \n",
       "3     4         0704.1724         1406.7689    hep-th/9610216          False   \n",
       "4     5        2303.03311   nucl-th/0306021         1112.6141          False   \n",
       "5     6         1406.7689    hep-ph/9702399  quant-ph/0210119          False   \n",
       "6     7  quant-ph/0208078    hep-ex/0605089     gr-qc/0509089          False   \n",
       "7     8         0708.0261         1411.2554         1212.2055          False   \n",
       "8     9   nucl-th/0306021        2303.03311  quant-ph/0303181          False   \n",
       "9    10        cs/0403003  quant-ph/0209165        1611.00205          False   \n",
       "\n",
       "   TFIDF == FAISS  BM25 == FAISS  \\\n",
       "0            True           True   \n",
       "1           False          False   \n",
       "2           False          False   \n",
       "3           False          False   \n",
       "4           False          False   \n",
       "5           False          False   \n",
       "6           False          False   \n",
       "7           False          False   \n",
       "8           False          False   \n",
       "9           False          False   \n",
       "\n",
       "                                         TFIDF_Title  \n",
       "0  Lecture notes on \"Quantum chromodynamics and s...  \n",
       "1   Effective Fields in Dense Quantum Chromodynamics  \n",
       "2  The universal quantum driving force to speed u...  \n",
       "3  Inhomogeneous color superconductivity and the ...  \n",
       "4  Ising Meson Spectroscopy on a Noisy Digital Qu...  \n",
       "5             Quantum Chromodynamics (CERN-2014-001)  \n",
       "6  Quantum information science as an approach to ...  \n",
       "7               An Introduction to Quantum Computing  \n",
       "8        Baryons as Relativistic Three-Quark Systems  \n",
       "9         Genetic Algorithms and Quantum Computation  "
      ]
     },
     "execution_count": 30,
     "metadata": {},
     "output_type": "execute_result"
    }
   ],
   "source": [
    "import pandas as pd\n",
    "\n",
    "# Ejecutar búsqueda con una misma query\n",
    "query = \"quantum chromodynamics\"\n",
    "tfidf_results = search_tfidf(query, top_k=10)\n",
    "bm25_results = search_bm25(query, top_k=10)\n",
    "faiss_results = search_faiss(query, top_k=10)\n",
    "\n",
    "# Extraer IDs\n",
    "tfidf_ids = [doc[\"id\"] for doc in tfidf_results]\n",
    "bm25_ids = [doc[\"id\"] for doc in bm25_results]\n",
    "faiss_ids = [doc[\"id\"] for doc in faiss_results]\n",
    "\n",
    "# Comparativa por ranking\n",
    "df = pd.DataFrame({\n",
    "    \"Rank\": range(1, 11),\n",
    "    \"TF-IDF_ID\": tfidf_ids,\n",
    "    \"BM25_ID\": bm25_ids,\n",
    "    \"FAISS_ID\": faiss_ids\n",
    "})\n",
    "\n",
    "# Coincidencias por posición\n",
    "df[\"TFIDF == BM25\"] = df[\"TF-IDF_ID\"] == df[\"BM25_ID\"]\n",
    "df[\"TFIDF == FAISS\"] = df[\"TF-IDF_ID\"] == df[\"FAISS_ID\"]\n",
    "df[\"BM25 == FAISS\"] = df[\"BM25_ID\"] == df[\"FAISS_ID\"]\n",
    "\n",
    "# Coincidencias globales \n",
    "intersection_tf_bm25 = len(set(tfidf_ids) & set(bm25_ids))\n",
    "intersection_tf_faiss = len(set(tfidf_ids) & set(faiss_ids))\n",
    "intersection_bm25_faiss = len(set(bm25_ids) & set(faiss_ids))\n",
    "\n",
    "print(\"🔎 Coincidencias en Top-10:\")\n",
    "print(f\"TF-IDF & BM25: {intersection_tf_bm25}\")\n",
    "print(f\"TF-IDF & FAISS: {intersection_tf_faiss}\")\n",
    "print(f\"BM25 & FAISS: {intersection_bm25_faiss}\")\n",
    "\n",
    "df[\"TFIDF_Title\"] = [doc[\"title\"] for doc in tfidf_results] # Modelo base del documento en TF-IDFF\n",
    "\n",
    "\n",
    "df\n"
   ]
  },
  {
   "cell_type": "markdown",
   "id": "53ec649c",
   "metadata": {},
   "source": [
    "#### RAG"
   ]
  },
  {
   "cell_type": "code",
   "execution_count": 33,
   "id": "00cf092b",
   "metadata": {},
   "outputs": [
    {
     "name": "stdout",
     "output_type": "stream",
     "text": [
      "Requirement already satisfied: openai in c:\\users\\gboy2\\appdata\\local\\programs\\python\\python311\\lib\\site-packages (1.93.0)\n",
      "Requirement already satisfied: python-dotenv in c:\\users\\gboy2\\appdata\\local\\programs\\python\\python311\\lib\\site-packages (1.1.1)\n",
      "Requirement already satisfied: anyio<5,>=3.5.0 in c:\\users\\gboy2\\appdata\\local\\programs\\python\\python311\\lib\\site-packages (from openai) (4.9.0)\n",
      "Requirement already satisfied: distro<2,>=1.7.0 in c:\\users\\gboy2\\appdata\\local\\programs\\python\\python311\\lib\\site-packages (from openai) (1.9.0)\n",
      "Requirement already satisfied: httpx<1,>=0.23.0 in c:\\users\\gboy2\\appdata\\local\\programs\\python\\python311\\lib\\site-packages (from openai) (0.28.1)\n",
      "Requirement already satisfied: jiter<1,>=0.4.0 in c:\\users\\gboy2\\appdata\\local\\programs\\python\\python311\\lib\\site-packages (from openai) (0.10.0)\n",
      "Requirement already satisfied: pydantic<3,>=1.9.0 in c:\\users\\gboy2\\appdata\\local\\programs\\python\\python311\\lib\\site-packages (from openai) (2.11.7)\n",
      "Requirement already satisfied: sniffio in c:\\users\\gboy2\\appdata\\local\\programs\\python\\python311\\lib\\site-packages (from openai) (1.3.1)\n",
      "Requirement already satisfied: tqdm>4 in c:\\users\\gboy2\\appdata\\local\\programs\\python\\python311\\lib\\site-packages (from openai) (4.67.1)\n",
      "Requirement already satisfied: typing-extensions<5,>=4.11 in c:\\users\\gboy2\\appdata\\roaming\\python\\python311\\site-packages (from openai) (4.14.0)\n",
      "Requirement already satisfied: idna>=2.8 in c:\\users\\gboy2\\appdata\\local\\programs\\python\\python311\\lib\\site-packages (from anyio<5,>=3.5.0->openai) (3.10)\n",
      "Requirement already satisfied: certifi in c:\\users\\gboy2\\appdata\\local\\programs\\python\\python311\\lib\\site-packages (from httpx<1,>=0.23.0->openai) (2025.6.15)\n",
      "Requirement already satisfied: httpcore==1.* in c:\\users\\gboy2\\appdata\\local\\programs\\python\\python311\\lib\\site-packages (from httpx<1,>=0.23.0->openai) (1.0.9)\n",
      "Requirement already satisfied: h11>=0.16 in c:\\users\\gboy2\\appdata\\local\\programs\\python\\python311\\lib\\site-packages (from httpcore==1.*->httpx<1,>=0.23.0->openai) (0.16.0)\n",
      "Requirement already satisfied: annotated-types>=0.6.0 in c:\\users\\gboy2\\appdata\\local\\programs\\python\\python311\\lib\\site-packages (from pydantic<3,>=1.9.0->openai) (0.7.0)\n",
      "Requirement already satisfied: pydantic-core==2.33.2 in c:\\users\\gboy2\\appdata\\local\\programs\\python\\python311\\lib\\site-packages (from pydantic<3,>=1.9.0->openai) (2.33.2)\n",
      "Requirement already satisfied: typing-inspection>=0.4.0 in c:\\users\\gboy2\\appdata\\local\\programs\\python\\python311\\lib\\site-packages (from pydantic<3,>=1.9.0->openai) (0.4.1)\n",
      "Requirement already satisfied: colorama in c:\\users\\gboy2\\appdata\\roaming\\python\\python311\\site-packages (from tqdm>4->openai) (0.4.6)\n",
      "Note: you may need to restart the kernel to use updated packages.\n"
     ]
    },
    {
     "name": "stderr",
     "output_type": "stream",
     "text": [
      "\n",
      "[notice] A new release of pip is available: 24.0 -> 25.1.1\n",
      "[notice] To update, run: python.exe -m pip install --upgrade pip\n"
     ]
    }
   ],
   "source": [
    "%pip install openai python-dotenv"
   ]
  },
  {
   "cell_type": "code",
   "execution_count": 37,
   "id": "791fb525",
   "metadata": {},
   "outputs": [
    {
     "name": "stdout",
     "output_type": "stream",
     "text": [
      "API Key cargada: Sí\n"
     ]
    }
   ],
   "source": [
    "from dotenv import load_dotenv\n",
    "import os\n",
    "\n",
    "load_dotenv()\n",
    "openai.api_key = os.getenv(\"OPENAI_API_KEY\")\n",
    "\n",
    "# Verifica (opcional):\n",
    "print(\"API Key cargada:\", \"Sí\" if openai.api_key else \"No\")\n"
   ]
  },
  {
   "cell_type": "code",
   "execution_count": 42,
   "id": "970de1a4",
   "metadata": {},
   "outputs": [
    {
     "name": "stdout",
     "output_type": "stream",
     "text": [
      "Requirement already satisfied: openai in c:\\users\\gboy2\\appdata\\local\\programs\\python\\python311\\lib\\site-packages (1.93.0)\n",
      "Collecting openai\n",
      "  Downloading openai-1.97.1-py3-none-any.whl.metadata (29 kB)\n",
      "Requirement already satisfied: anyio<5,>=3.5.0 in c:\\users\\gboy2\\appdata\\local\\programs\\python\\python311\\lib\\site-packages (from openai) (4.9.0)\n",
      "Requirement already satisfied: distro<2,>=1.7.0 in c:\\users\\gboy2\\appdata\\local\\programs\\python\\python311\\lib\\site-packages (from openai) (1.9.0)\n",
      "Requirement already satisfied: httpx<1,>=0.23.0 in c:\\users\\gboy2\\appdata\\local\\programs\\python\\python311\\lib\\site-packages (from openai) (0.28.1)\n",
      "Requirement already satisfied: jiter<1,>=0.4.0 in c:\\users\\gboy2\\appdata\\local\\programs\\python\\python311\\lib\\site-packages (from openai) (0.10.0)\n",
      "Requirement already satisfied: pydantic<3,>=1.9.0 in c:\\users\\gboy2\\appdata\\local\\programs\\python\\python311\\lib\\site-packages (from openai) (2.11.7)\n",
      "Requirement already satisfied: sniffio in c:\\users\\gboy2\\appdata\\local\\programs\\python\\python311\\lib\\site-packages (from openai) (1.3.1)\n",
      "Requirement already satisfied: tqdm>4 in c:\\users\\gboy2\\appdata\\local\\programs\\python\\python311\\lib\\site-packages (from openai) (4.67.1)\n",
      "Requirement already satisfied: typing-extensions<5,>=4.11 in c:\\users\\gboy2\\appdata\\roaming\\python\\python311\\site-packages (from openai) (4.14.0)\n",
      "Requirement already satisfied: idna>=2.8 in c:\\users\\gboy2\\appdata\\local\\programs\\python\\python311\\lib\\site-packages (from anyio<5,>=3.5.0->openai) (3.10)\n",
      "Requirement already satisfied: certifi in c:\\users\\gboy2\\appdata\\local\\programs\\python\\python311\\lib\\site-packages (from httpx<1,>=0.23.0->openai) (2025.6.15)\n",
      "Requirement already satisfied: httpcore==1.* in c:\\users\\gboy2\\appdata\\local\\programs\\python\\python311\\lib\\site-packages (from httpx<1,>=0.23.0->openai) (1.0.9)\n",
      "Requirement already satisfied: h11>=0.16 in c:\\users\\gboy2\\appdata\\local\\programs\\python\\python311\\lib\\site-packages (from httpcore==1.*->httpx<1,>=0.23.0->openai) (0.16.0)\n",
      "Requirement already satisfied: annotated-types>=0.6.0 in c:\\users\\gboy2\\appdata\\local\\programs\\python\\python311\\lib\\site-packages (from pydantic<3,>=1.9.0->openai) (0.7.0)\n",
      "Requirement already satisfied: pydantic-core==2.33.2 in c:\\users\\gboy2\\appdata\\local\\programs\\python\\python311\\lib\\site-packages (from pydantic<3,>=1.9.0->openai) (2.33.2)\n",
      "Requirement already satisfied: typing-inspection>=0.4.0 in c:\\users\\gboy2\\appdata\\local\\programs\\python\\python311\\lib\\site-packages (from pydantic<3,>=1.9.0->openai) (0.4.1)\n",
      "Requirement already satisfied: colorama in c:\\users\\gboy2\\appdata\\roaming\\python\\python311\\site-packages (from tqdm>4->openai) (0.4.6)\n",
      "Downloading openai-1.97.1-py3-none-any.whl (764 kB)\n",
      "   ---------------------------------------- 0.0/764.4 kB ? eta -:--:--\n",
      "   -- ------------------------------------- 41.0/764.4 kB 2.0 MB/s eta 0:00:01\n",
      "   --------- ------------------------------ 174.1/764.4 kB 2.6 MB/s eta 0:00:01\n",
      "   -------------------------- ------------- 501.8/764.4 kB 5.3 MB/s eta 0:00:01\n",
      "   ---------------------------------------- 764.4/764.4 kB 6.9 MB/s eta 0:00:00\n",
      "Installing collected packages: openai\n",
      "  Attempting uninstall: openai\n",
      "    Found existing installation: openai 1.93.0\n",
      "    Uninstalling openai-1.93.0:\n",
      "      Successfully uninstalled openai-1.93.0\n",
      "Successfully installed openai-1.97.1\n",
      "Note: you may need to restart the kernel to use updated packages.\n"
     ]
    },
    {
     "name": "stderr",
     "output_type": "stream",
     "text": [
      "  WARNING: The script openai.exe is installed in 'c:\\Users\\gboy2\\AppData\\Local\\Programs\\Python\\Python311\\Scripts' which is not on PATH.\n",
      "  Consider adding this directory to PATH or, if you prefer to suppress this warning, use --no-warn-script-location.\n",
      "\n",
      "[notice] A new release of pip is available: 24.0 -> 25.1.1\n",
      "[notice] To update, run: python.exe -m pip install --upgrade pip\n"
     ]
    }
   ],
   "source": [
    "%pip install --upgrade openai"
   ]
  },
  {
   "cell_type": "code",
   "execution_count": 43,
   "id": "5d7fde8c",
   "metadata": {},
   "outputs": [],
   "source": [
    "from openai import OpenAI\n",
    "from dotenv import load_dotenv\n",
    "import os\n",
    "\n",
    "# Cargar clave desde .env\n",
    "load_dotenv()\n",
    "client = OpenAI(api_key=os.getenv(\"OPENAI_API_KEY\"))\n",
    "\n",
    "def generate_rag_response_openai(query, top_k=3):\n",
    "    top_docs = search_faiss(query, top_k=top_k)\n",
    "    contexto = \"\\n\\n\".join([f\"{i+1}. {doc['abstract_snippet']}\" for i, doc in enumerate(top_docs)])\n",
    "\n",
    "    prompt = (\n",
    "        f\"Pregunta del usuario:\\n{query}\\n\\n\"\n",
    "        f\"Contexto recuperado desde documentos científicos relevantes:\\n{contexto}\\n\\n\"\n",
    "        f\"Con base en el contexto anterior, responde de forma clara, concisa y académica:\"\n",
    "    )\n",
    "\n",
    "    response = client.chat.completions.create(\n",
    "        model=\"gpt-3.5-turbo\",\n",
    "        messages=[{\"role\": \"user\", \"content\": prompt}],\n",
    "        temperature=0.7\n",
    "    )\n",
    "\n",
    "    return response.choices[0].message.content\n"
   ]
  },
  {
   "cell_type": "code",
   "execution_count": 44,
   "id": "a8e2ee85",
   "metadata": {},
   "outputs": [
    {
     "name": "stdout",
     "output_type": "stream",
     "text": [
      "La cromodinámica cuántica es la teoría cuántica de las interacciones fuertes entre partículas subatómicas, que se basa en la interacción entre quarks y gluones. Es una teoría fundamental en la física de partículas que describe cómo los quarks y los gluones interactúan a través de la fuerza nuclear fuerte. La cromodinámica cuántica ha sido estudiada en diversos regímenes de energía, incluyendo el régimen de alta energía donde se utilizan métodos semi-clásicos y la transición a fases como la superconductividad de color en condiciones de alta densidad y baja temperatura. Además, se han desarrollado técnicas de resumen y evolución de ecuaciones para estudiar correcciones logarítmicas en la teoría.\n"
     ]
    }
   ],
   "source": [
    "print(generate_rag_response_openai(\"quantum chromodynamics\"))"
   ]
  },
  {
   "cell_type": "markdown",
   "id": "41add8b3",
   "metadata": {},
   "source": [
    "##### EVALUACION Y TEST SI LA RESPUESTA USA LA INFORMACION DEL CONTEXTO"
   ]
  },
  {
   "cell_type": "code",
   "execution_count": 47,
   "id": "52263b79",
   "metadata": {},
   "outputs": [],
   "source": [
    "from collections import Counter\n",
    "\n",
    "def evaluar_rag_response(query, top_k=3):\n",
    "    # 1. Obtener documentos\n",
    "    top_docs = search_faiss(query, top_k=top_k)\n",
    "    context = \" \".join([doc[\"abstract_snippet\"] for doc in top_docs])\n",
    "\n",
    "    # 2. Generar respuesta\n",
    "    respuesta = generate_rag_response_openai(query, top_k=top_k)\n",
    "\n",
    "    # 3. Palabras clave del contexto\n",
    "    context_tokens = [t for t in re.sub(r'[^\\w\\s]', '', context.lower()).split() if t not in ENGLISH_STOP_WORDS]\n",
    "    respuesta_tokens = [t for t in re.sub(r'[^\\w\\s]', '', respuesta.lower()).split()]\n",
    "\n",
    "    # 4. Comparar y contar coincidencias\n",
    "    context_counter = Counter(context_tokens)\n",
    "    respuesta_counter = Counter(respuesta_tokens)\n",
    "    coincidencias = sum((respuesta_counter & context_counter).values())\n",
    "\n",
    "    print(\"Consulta:\", query)\n",
    "    print(\"Palabras clave del contexto:\", len(set(context_tokens)))\n",
    "    print(\"Palabras en respuesta:\", len(respuesta_tokens))\n",
    "    print(\"Palabras del contexto usadas en la respuesta:\", coincidencias)\n",
    "    print(\"\\n Respuesta generada:\")\n",
    "    print(respuesta)\n",
    "\n",
    "    return {\n",
    "        \"coincidencias\": coincidencias,\n",
    "        \"longitud_contexto\": len(set(context_tokens)),\n",
    "        \"longitud_respuesta\": len(respuesta_tokens),\n",
    "        \"respuesta\": respuesta\n",
    "    }\n"
   ]
  },
  {
   "cell_type": "code",
   "execution_count": 48,
   "id": "3377ed78",
   "metadata": {},
   "outputs": [
    {
     "name": "stdout",
     "output_type": "stream",
     "text": [
      "Consulta: quantum chromodynamics\n",
      "Palabras clave del contexto: 68\n",
      "Palabras en respuesta: 160\n",
      "Palabras del contexto usadas en la respuesta: 40\n",
      "\n",
      " Respuesta generada:\n",
      "Quantum chromodynamics (QCD) is the theory that describes the strong nuclear force, which is responsible for binding quarks together to form protons, neutrons, and other particles. It is a fundamental theory in particle physics and plays a crucial role in understanding the behavior of matter at high energies and densities. Recent research has applied concepts and methods from the study of disordered systems to analyze the evolution equations of QCD in the high-energy regime, particularly in relation to parton branching. Additionally, perturbative QCD, which deals with the interactions of quarks and gluons at high energies, has been studied extensively, including the resolution of infrared divergences and the development of factorization theorems and resummation techniques for corrections in scattering processes. In the high-density, low-temperature limit, QCD exhibits a phase transition to states characterized by color superconductivity and energy gaps in fermion spectra. This area of research has yielded important results in understanding the low-energy effective dynamics of QCD in extreme conditions.\n"
     ]
    },
    {
     "data": {
      "text/plain": [
       "{'coincidencias': 40,\n",
       " 'longitud_contexto': 68,\n",
       " 'longitud_respuesta': 160,\n",
       " 'respuesta': 'Quantum chromodynamics (QCD) is the theory that describes the strong nuclear force, which is responsible for binding quarks together to form protons, neutrons, and other particles. It is a fundamental theory in particle physics and plays a crucial role in understanding the behavior of matter at high energies and densities. Recent research has applied concepts and methods from the study of disordered systems to analyze the evolution equations of QCD in the high-energy regime, particularly in relation to parton branching. Additionally, perturbative QCD, which deals with the interactions of quarks and gluons at high energies, has been studied extensively, including the resolution of infrared divergences and the development of factorization theorems and resummation techniques for corrections in scattering processes. In the high-density, low-temperature limit, QCD exhibits a phase transition to states characterized by color superconductivity and energy gaps in fermion spectra. This area of research has yielded important results in understanding the low-energy effective dynamics of QCD in extreme conditions.'}"
      ]
     },
     "execution_count": 48,
     "metadata": {},
     "output_type": "execute_result"
    }
   ],
   "source": [
    "evaluar_rag_response(\"quantum chromodynamics\")"
   ]
  },
  {
   "cell_type": "markdown",
   "id": "bccf2eea",
   "metadata": {},
   "source": [
    "#### CONSULTAS queries"
   ]
  },
  {
   "cell_type": "code",
   "execution_count": 61,
   "id": "71b80c03",
   "metadata": {},
   "outputs": [
    {
     "name": "stdout",
     "output_type": "stream",
     "text": [
      " Consulta: diphoton production cross sections\n",
      "----------------------------------------------------------------------------------------------------\n",
      "\n",
      "🔹 TF-IDF - Top 10 documentos:\n",
      "1. 2204.12853 - EXFOR-based simultaneous evaluation of neutron-induced urani...\n",
      "2. 2108.07568 - Relativistic quantum-mechanical versus classical magnetic re...\n",
      "3. hep-ph/0105041 - Sudakov Resummation and Finite Order Expansions of Heavy Qua...\n",
      "4. 1606.08265 - Charmonia production in p+p collisions under NRQCD formalism...\n",
      "5. hep-ph/9807531 - Nuclei cross sections in Extensive Air Showers...\n",
      "6. 2306.12591 - Neutrino deep-inelastic scattering cross sections from 100 G...\n",
      "7. hep-ex/0112021 - A Combination of Preliminary Electroweak Measurements and Co...\n",
      "8. hep-ph/0111099 - More remarks on suppression of large black hole production i...\n",
      "9. 0705.1051 - Quasi-elastic neutrino charged-current scattering cross sect...\n",
      "10. 1409.2601 - Quarkonia production and polarization at the hadron collider...\n",
      "\n",
      "🔹 BM25 - Top 10 documentos:\n",
      "1. hep-ex/0112021 - A Combination of Preliminary Electroweak Measurements and Co...\n",
      "2. 1606.08265 - Charmonia production in p+p collisions under NRQCD formalism...\n",
      "3. 1506.01990 - Vector meson production at the LHC...\n",
      "4. hep-ph/0105041 - Sudakov Resummation and Finite Order Expansions of Heavy Qua...\n",
      "5. hep-ex/9804013 - Diffractive Dijet Cross Sections in Photoproduction at HERA...\n",
      "6. hep-ph/9906298 - The Production of Charginos/Neutralinos and Sleptons at Hadr...\n",
      "7. 1707.04164 - Deep-inelastic multinucleon transfer processes in the $^{16}...\n",
      "8. 1503.00681 - Measurement of charged jet production cross sections and nuc...\n",
      "9. 1409.2601 - Quarkonia production and polarization at the hadron collider...\n",
      "10. 1403.3648 - Measurement of quarkonium production at forward rapidity in ...\n",
      "\n",
      "🔹 FAISS - Top 10 documentos:\n",
      "1. 1003.1223 - BKP states in the inclusive gluon production...\n",
      "2. 1812.06783 - $J/\\psi$ production in hadron scattering: three-pomeron cont...\n",
      "3. 1607.04023 - Heavy quark production in $pA$ collisions: the double parton...\n",
      "4. 2404.05800 - Vector meson production using the Balitsky-Kovchegov equatio...\n",
      "5. hep-ph/0407346 - Inclusive cross-sections for jet production in nucleus-nucle...\n",
      "6. hep-ph/9909218 - Drell-Yan and Diphoton production at Hadron Colliders and Lo...\n",
      "7. hep-ph/9807531 - Nuclei cross sections in Extensive Air Showers...\n",
      "8. 2504.06828 - New physics particles mixing with mesons: production in the\n",
      "...\n",
      "9. 2012.09254 - Measurement of the Z boson differential production cross sec...\n",
      "10. 1109.6293 - On the linearly polarized gluon distributions in the color d...\n",
      "\n",
      " Comparación de coincidencias en el top 10:\n",
      "TF-IDF vs BM25: 4 en común → ['hep-ph/0105041', '1606.08265', 'hep-ex/0112021', '1409.2601']\n",
      "TF-IDF vs FAISS: 1 en común → ['hep-ph/9807531']\n",
      "BM25 vs FAISS: 0 en común → []\n",
      "\n",
      " Respuesta generada por RAG (CHAT GTP):\n",
      "Las secciones eficaces de producción de diphoton se pueden calcular utilizando técnicas de dispersión en la cromodinámica cuántica perturbativa, considerando un gran número de colores. Estos cálculos coinciden con los obtenidos en el modelo de dipolos. Además, en algunos estudios se ha demostrado que la producción de fotones en colisiones de protones puede estar dominada por mecanismos teóricamente descritos por el enfoque de CGC/Saturación. También se han estimado contribuciones de dispersión de partones dobles para la producción de quarks pesados en colisiones $pA$ en el LHC, utilizando el enfoque de dipolos y teniendo en cuenta los efectos de saturación.\n",
      "\n",
      "========================================================================================================================\n",
      "\n",
      " Consulta: quantum chromodynamics\n",
      "----------------------------------------------------------------------------------------------------\n",
      "\n",
      "🔹 TF-IDF - Top 10 documentos:\n",
      "1. 1410.6478 - Lecture notes on \"Quantum chromodynamics and statistical phy...\n",
      "2. hep-ph/0206065 - Effective Fields in Dense Quantum Chromodynamics...\n",
      "3. 1105.3573 - The universal quantum driving force to speed up a quantum co...\n",
      "4. 0704.1724 - Inhomogeneous color superconductivity and the cooling of com...\n",
      "5. 2303.03311 - Ising Meson Spectroscopy on a Noisy Digital Quantum Simulato...\n",
      "6. 1406.7689 - Quantum Chromodynamics (CERN-2014-001)...\n",
      "7. quant-ph/0208078 - Quantum information science as an approach to complex quantu...\n",
      "8. 0708.0261 - An Introduction to Quantum Computing...\n",
      "9. nucl-th/0306021 - Baryons as Relativistic Three-Quark Systems...\n",
      "10. cs/0403003 - Genetic Algorithms and Quantum Computation...\n",
      "\n",
      "🔹 BM25 - Top 10 documentos:\n",
      "1. 1410.6478 - Lecture notes on \"Quantum chromodynamics and statistical phy...\n",
      "2. hep-ph/0206065 - Effective Fields in Dense Quantum Chromodynamics...\n",
      "3. 0704.1724 - Inhomogeneous color superconductivity and the cooling of com...\n",
      "4. 1406.7689 - Quantum Chromodynamics (CERN-2014-001)...\n",
      "5. nucl-th/0306021 - Baryons as Relativistic Three-Quark Systems...\n",
      "6. hep-ph/9702399 - Non-perturbative aspects of (supersymmetric) gauge theories...\n",
      "7. hep-ex/0605089 - Heavy Flavour Production at HERA...\n",
      "8. 1411.2554 - Hadronic vacuum polarization function within dispersive appr...\n",
      "9. 2303.03311 - Ising Meson Spectroscopy on a Noisy Digital Quantum Simulato...\n",
      "10. quant-ph/0209165 - Pseudo-unitary symmetry and the Gaussian pseudo-unitary ense...\n",
      "\n",
      "🔹 FAISS - Top 10 documentos:\n",
      "1. 1410.6478 - Lecture notes on \"Quantum chromodynamics and statistical phy...\n",
      "2. 1406.7689 - Quantum Chromodynamics (CERN-2014-001)...\n",
      "3. hep-ph/0206065 - Effective Fields in Dense Quantum Chromodynamics...\n",
      "4. hep-th/9610216 - Further remarks on quantum mechanics and integrable systems...\n",
      "5. 1112.6141 - Thermodynamics of Dipolar Chain Systems...\n",
      "6. quant-ph/0210119 - Tunneling Time Distribution by means of Nelson's Quantum Mec...\n",
      "7. gr-qc/0509089 - `Iconoclastic', Categorical Quantum Gravity...\n",
      "8. 1212.2055 - Thermodynamic length for far from equilibrium quantum system...\n",
      "9. quant-ph/0303181 - Hamiltonian monodromy as lattice defect...\n",
      "10. 1611.00205 - Topological invariant and cotranslational symmetry in strong...\n",
      "\n",
      " Comparación de coincidencias en el top 10:\n",
      "TF-IDF vs BM25: 6 en común → ['0704.1724', '1406.7689', 'hep-ph/0206065', 'nucl-th/0306021', '2303.03311', '1410.6478']\n",
      "TF-IDF vs FAISS: 3 en común → ['1406.7689', 'hep-ph/0206065', '1410.6478']\n",
      "BM25 vs FAISS: 3 en común → ['1406.7689', 'hep-ph/0206065', '1410.6478']\n",
      "\n",
      " Respuesta generada por RAG (CHAT GTP):\n",
      "Quantum Chromodynamics (QCD) is the theory that describes the strong force interaction between quarks and gluons, which are the building blocks of protons, neutrons, and other hadrons. It is a fundamental theory in particle physics that governs the behavior of quarks and gluons within the framework of the standard model. In high-energy regimes, the evolution equations of QCD can be analyzed using concepts and methods from the study of disordered systems, such as parton branching in the semi-classical approximation. Additionally, at high density and low temperature, QCD exhibits transitions to phases characterized by color superconductivity and energy gaps in fermion spectra. This highlights the rich and complex behavior of QCD in different physical regimes.\n",
      "\n",
      "========================================================================================================================\n",
      "\n",
      " Consulta: higgs boson decay\n",
      "----------------------------------------------------------------------------------------------------\n",
      "\n",
      "🔹 TF-IDF - Top 10 documentos:\n",
      "1. 1203.4443 - Search for the standard model Higgs boson in tau lepton pair...\n",
      "2. hep-ph/0411152 - A note on the rare decay of a Higgs boson into photons and a...\n",
      "3. 1903.00941 - Search for a heavy pseudoscalar boson decaying to a Z and a ...\n",
      "4. hep-ph/0211170 - Prospects for Higgs properties determination at the LHC...\n",
      "5. 1011.4179 - Remarks on Higgs Inflation...\n",
      "6. hep-ph/9711472 - Heavy charged Higgs boson decaying into top quark in the MSS...\n",
      "7. hep-ph/9301265 - CP Violation in the Decay of Neutral Higgs Boson into $t-{\\b...\n",
      "8. 1110.2265 - Search for the Standard Model Higgs Boson in the Lepton + Mi...\n",
      "9. 1204.4579 - The Higgs Portal from LHC to ILC...\n",
      "10. 1404.2924 - Anatomizing Exotic Production of the Higgs Boson...\n",
      "\n",
      "🔹 BM25 - Top 10 documentos:\n",
      "1. hep-ph/0411152 - A note on the rare decay of a Higgs boson into photons and a...\n",
      "2. hep-ph/9301265 - CP Violation in the Decay of Neutral Higgs Boson into $t-{\\b...\n",
      "3. 1911.07197 - Gauge Dependences of Higher-Order Corrections to NMSSM Higgs...\n",
      "4. hep-ph/0311295 - Probing the Radion-Higgs mixing at hadronic colliders...\n",
      "5. hep-ph/9711472 - Heavy charged Higgs boson decaying into top quark in the MSS...\n",
      "6. hep-ph/0211170 - Prospects for Higgs properties determination at the LHC...\n",
      "7. 2207.01046 - Search for a charged Higgs boson decaying into a heavy neutr...\n",
      "8. hep-ph/0303048 - Testing anomalous gauge couplings of the Higgs boson via wea...\n",
      "9. 1406.3827 - Measurement of the Higgs boson mass from the $H\\rightarrow \\...\n",
      "10. 1805.00686 - Observability of 2HDM neutral Higgs bosons with different ma...\n",
      "\n",
      "🔹 FAISS - Top 10 documentos:\n",
      "1. hep-ph/9511342 - Two- and Three-Body Decay Modes of SUSY Higgs Particles...\n",
      "2. hep-ph/9711472 - Heavy charged Higgs boson decaying into top quark in the MSS...\n",
      "3. 1903.00941 - Search for a heavy pseudoscalar boson decaying to a Z and a ...\n",
      "4. 1705.05486 - Radiative decays of a singlet scalar boson through vector-li...\n",
      "5. hep-ph/0411152 - A note on the rare decay of a Higgs boson into photons and a...\n",
      "6. 0902.2176 - Search for Dimuon Decays of a Light Scalar in Radiative Tran...\n",
      "7. 2207.01046 - Search for a charged Higgs boson decaying into a heavy neutr...\n",
      "8. 1212.3016 - Lepton-number-violating decays of heavy flavors induced by\n",
      " ...\n",
      "9. hep-ph/0402123 - MSSM Higgs Boson Production from Supersymmetric Cascades at ...\n",
      "10. 1609.08127 - Prospects for three-body Higgs boson decays into extra light...\n",
      "\n",
      " Comparación de coincidencias en el top 10:\n",
      "TF-IDF vs BM25: 4 en común → ['hep-ph/9301265', 'hep-ph/0211170', 'hep-ph/9711472', 'hep-ph/0411152']\n",
      "TF-IDF vs FAISS: 3 en común → ['1903.00941', 'hep-ph/9711472', 'hep-ph/0411152']\n",
      "BM25 vs FAISS: 3 en común → ['2207.01046', 'hep-ph/9711472', 'hep-ph/0411152']\n",
      "\n",
      " Respuesta generada por RAG (CHAT GTP):\n",
      "El decaimiento del bosón de Higgs puede ocurrir a través de diversos modos, incluyendo decaimientos a dos cuerpos y decaimientos a tres cuerpos de los bosones de Higgs neutros y cargados en la extensión supersimétrica mínima del Modelo Estándar. La observación de un bosón de Higgs cargado pesado producido en experimentos como el Tevatrón o el LHC podría proporcionar evidencia instantánea de física más allá del Modelo Estándar, lo que requeriría una predicción precisa de sus propiedades para determinar si el bosón de Higgs es supersimétrico o no. Además, se han realizado búsquedas de la desintegración de un bosón pseudoscalar A a un bosón Z y un bosón de Higgs con una masa de 125 GeV, donde el bosón de Higgs decae en un quark fondo y antiquark, y el bosón Z decae en pares de electrones, muones o neutrinos.\n",
      "\n",
      "========================================================================================================================\n",
      "\n",
      " Consulta: machine learning for particle physics\n",
      "----------------------------------------------------------------------------------------------------\n",
      "\n",
      "🔹 TF-IDF - Top 10 documentos:\n",
      "1. 2104.05314 - Machine learning and deep learning...\n",
      "2. 1903.12394 - Informed Machine Learning -- A Taxonomy and Survey of Integr...\n",
      "3. 1404.6674 - A Comparison of First-order Algorithms for Machine Learning...\n",
      "4. astro-ph/0309027 - Cosmic Physics: The High Energy Frontier...\n",
      "5. 1105.5213 - A Stable Massive Charged Particle...\n",
      "6. hep-ph/9905257 - Neutrino Physics...\n",
      "7. 1911.00623 - On-Device Machine Learning: An Algorithms and Learning Theor...\n",
      "8. 2007.04506 - Bayesian Neural Networks for Fast SUSY Predictions...\n",
      "9. 1403.1597 - Geography of Fields in Extra Dimensions: String Theory Lesso...\n",
      "10. hep-th/9908021 - New Concepts in Particle Physics from Solution of an Old Pro...\n",
      "\n",
      "🔹 BM25 - Top 10 documentos:\n",
      "1. 2007.04506 - Bayesian Neural Networks for Fast SUSY Predictions...\n",
      "2. 2403.04750 - JAX-SPH: A Differentiable Smoothed Particle Hydrodynamics Fr...\n",
      "3. 2106.11535 - Particle Cloud Generation with Message Passing Generative Ad...\n",
      "4. 2203.04391 - Adaptive Machine Learning for Time-Varying Systems: Towards ...\n",
      "5. 2004.14196 - The Neutron Star Outer Crust Equation of State: A Machine Le...\n",
      "6. 1806.05451 - The committee machine: Computational to statistical gaps in ...\n",
      "7. 1912.08480 - Quantum-inspired annealers as Boltzmann generators for machi...\n",
      "8. 2202.05320 - Denoising Convolutional Networks to Accelerate Detector Simu...\n",
      "9. 2211.04770 - Continual learning autoencoder training for a particle-in-ce...\n",
      "10. astro-ph/0309027 - Cosmic Physics: The High Energy Frontier...\n",
      "\n",
      "🔹 FAISS - Top 10 documentos:\n",
      "1. 2007.04506 - Bayesian Neural Networks for Fast SUSY Predictions...\n",
      "2. 2410.07315 - Advancing Tools for Simulation-Based Inference...\n",
      "3. 2107.13745 - Machine learning identification of symmetrized base states o...\n",
      "4. 1904.10251 - Artificial Neural Networks as Trial Wave Functions for Quant...\n",
      "5. 2107.03727 - Neural Network Potentials: A Concise Overview of Methods...\n",
      "6. 2408.17130 - Estimating event-by-event multiplicity by a Machine Learning...\n",
      "7. 1809.05519 - Identifying Quantum Phase Transitions using Artificial Neura...\n",
      "8. 2004.14196 - The Neutron Star Outer Crust Equation of State: A Machine Le...\n",
      "9. 2001.00927 - A Probability Density Theory for Spin-Glass Systems...\n",
      "10. 2105.04448 - Scaffolding Simulations with Deep Learning for High-dimensio...\n",
      "\n",
      " Comparación de coincidencias en el top 10:\n",
      "TF-IDF vs BM25: 2 en común → ['astro-ph/0309027', '2007.04506']\n",
      "TF-IDF vs FAISS: 1 en común → ['2007.04506']\n",
      "BM25 vs FAISS: 2 en común → ['2004.14196', '2007.04506']\n",
      "\n",
      " Respuesta generada por RAG (CHAT GTP):\n",
      "¿Cómo se está utilizando el aprendizaje automático en la física de partículas?\n",
      "\n",
      "========================================================================================================================\n",
      "\n",
      " Consulta: top quark production\n",
      "----------------------------------------------------------------------------------------------------\n",
      "\n",
      "🔹 TF-IDF - Top 10 documentos:\n",
      "1. hep-ex/0505085 - Top Physics Results at CDF...\n",
      "2. hep-ph/0104169 - Supersymmetric Correction to Top Quark Pair Production near ...\n",
      "3. 1607.04023 - Heavy quark production in $pA$ collisions: the double parton...\n",
      "4. 1602.00428 - Top-quark mass measurements at the LHC: alternative methods...\n",
      "5. 1603.04568 - Renormalization of the quark mass matrix...\n",
      "6. 1103.4024 - Spatial distributions in static heavy-light mesons: a compar...\n",
      "7. 1201.3228 - The effect of dynamical quark mass in the calculation of str...\n",
      "8. 1207.5179 - Single Top Production as a Probe of B-prime Quarks...\n",
      "9. 1701.07409 - Search for single production of vector-like quarks decaying ...\n",
      "10. 0906.1592 - A Tail of a Quark in N=4 SYM...\n",
      "\n",
      "🔹 BM25 - Top 10 documentos:\n",
      "1. hep-ph/0104169 - Supersymmetric Correction to Top Quark Pair Production near ...\n",
      "2. 1607.04023 - Heavy quark production in $pA$ collisions: the double parton...\n",
      "3. hep-ex/0505085 - Top Physics Results at CDF...\n",
      "4. 1701.07409 - Search for single production of vector-like quarks decaying ...\n",
      "5. 1210.0394 - The effects of reflective scattering in the spin correlation...\n",
      "6. 1902.01146 - Chiral Symmetry Breaking by Monopole Condensation...\n",
      "7. 1602.01667 - Thermal Charm and Charmonium Production in Quark Gluon Plasm...\n",
      "8. 1901.04193 - On the kinematic limit of the charm production in fixed-targ...\n",
      "9. hep-ph/9706480 - The Heavy Quark Parton Oxymoron -- A mini-review of Heavy Qu...\n",
      "10. 1602.00428 - Top-quark mass measurements at the LHC: alternative methods...\n",
      "\n",
      "🔹 FAISS - Top 10 documentos:\n",
      "1. 1701.07409 - Search for single production of vector-like quarks decaying ...\n",
      "2. hep-ex/0505085 - Top Physics Results at CDF...\n",
      "3. hep-ph/9706480 - The Heavy Quark Parton Oxymoron -- A mini-review of Heavy Qu...\n",
      "4. 1312.5011 - Update on the 2+1+1 flavor QCD equation of state with HISQ...\n",
      "5. hep-ph/0104169 - Supersymmetric Correction to Top Quark Pair Production near ...\n",
      "6. 1812.07343 - Search for single production of vector-like quarks decaying ...\n",
      "7. hep-ph/9704360 - Thermal charm production by massive gluons and quarks...\n",
      "8. hep-ex/0605089 - Heavy Flavour Production at HERA...\n",
      "9. hep-lat/0209077 - On the strange quark mass with improved staggered quarks...\n",
      "10. hep-ph/0104184 - Probing R-violating top quark decays at the NLC...\n",
      "\n",
      " Comparación de coincidencias en el top 10:\n",
      "TF-IDF vs BM25: 5 en común → ['1607.04023', 'hep-ph/0104169', '1602.00428', 'hep-ex/0505085', '1701.07409']\n",
      "TF-IDF vs FAISS: 3 en común → ['hep-ex/0505085', '1701.07409', 'hep-ph/0104169']\n",
      "BM25 vs FAISS: 4 en común → ['hep-ph/9706480', 'hep-ex/0505085', '1701.07409', 'hep-ph/0104169']\n",
      "\n",
      " Respuesta generada por RAG (CHAT GTP):\n",
      "El proceso de producción del quark top es un tema de interés en la física de partículas. Se han realizado búsquedas de producción de quarks vectoriales T y B, que se desintegran en un bosón Z y un quark top o bottom, respectivamente. Estas búsquedas se han llevado a cabo utilizando datos recopilados en colisiones protón-protón a 13 TeV en el LHC. Además, se han reportado resultados recientes sobre la física del quark top, incluyendo medidas de sección eficaz y masa, así como el estado de las búsquedas de producción de quark top único.\n",
      "\n",
      "========================================================================================================================\n",
      "\n"
     ]
    }
   ],
   "source": [
    "with open(\"queries.txt\", \"r\", encoding=\"utf-8\") as f:\n",
    "    queries = [line.strip() for line in f if line.strip()]\n",
    "\n",
    "# Función para extraer solo los IDs del top-k\n",
    "def extract_ids(results):\n",
    "    return [r[\"id\"] for r in results]\n",
    "\n",
    "# Procesar cada consulta\n",
    "for query in queries:\n",
    "    print(f\" Consulta: {query}\")\n",
    "    print(\"-\" * 100)\n",
    "\n",
    "    tfidf_results = search_tfidf(query)\n",
    "    bm25_results = search_bm25(query)\n",
    "    faiss_results = search_faiss(query)\n",
    "    rag_response = generate_rag_response_openai(query)\n",
    "\n",
    "    # Mostrar top 10 resultados\n",
    "    for name, results in zip([\"TF-IDF\", \"BM25\", \"FAISS\"], [tfidf_results, bm25_results, faiss_results]):\n",
    "        print(f\"\\n🔹 {name} - Top 10 documentos:\")\n",
    "        for i, r in enumerate(results, 1):\n",
    "            print(f\"{i}. {r['id']} - {r['title'][:60]}...\")\n",
    "\n",
    "    # Extraer IDs\n",
    "    tfidf_ids = extract_ids(tfidf_results)\n",
    "    bm25_ids = extract_ids(bm25_results)\n",
    "    faiss_ids = extract_ids(faiss_results)\n",
    "\n",
    "    # Comparaciones\n",
    "    tfidf_vs_bm25 = list(set(tfidf_ids) & set(bm25_ids))\n",
    "    tfidf_vs_faiss = list(set(tfidf_ids) & set(faiss_ids))\n",
    "    bm25_vs_faiss = list(set(bm25_ids) & set(faiss_ids))\n",
    "\n",
    "    # Mostrar comparaciones\n",
    "    print(\"\\n Comparación de coincidencias en el top 10:\")\n",
    "    print(f\"TF-IDF vs BM25: {len(tfidf_vs_bm25)} en común → {tfidf_vs_bm25}\")\n",
    "    print(f\"TF-IDF vs FAISS: {len(tfidf_vs_faiss)} en común → {tfidf_vs_faiss}\")\n",
    "    print(f\"BM25 vs FAISS: {len(bm25_vs_faiss)} en común → {bm25_vs_faiss}\")\n",
    "\n",
    "    # Mostrar respuesta RAG\n",
    "    print(\"\\n Respuesta generada por RAG (CHAT GTP):\")\n",
    "    print(rag_response)\n",
    "\n",
    "    print(\"\\n\" + \"=\" * 120 + \"\\n\")\n"
   ]
  }
 ],
 "metadata": {
  "kernelspec": {
   "display_name": "Python 3",
   "language": "python",
   "name": "python3"
  },
  "language_info": {
   "codemirror_mode": {
    "name": "ipython",
    "version": 3
   },
   "file_extension": ".py",
   "mimetype": "text/x-python",
   "name": "python",
   "nbconvert_exporter": "python",
   "pygments_lexer": "ipython3",
   "version": "3.11.8"
  }
 },
 "nbformat": 4,
 "nbformat_minor": 5
}
